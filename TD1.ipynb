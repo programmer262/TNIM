{
 "cells": [
  {
   "cell_type": "markdown",
   "id": "e0b0e408-6516-474f-a2ef-5260e96be702",
   "metadata": {},
   "source": [
    "<h1 style=\"text-align:center;color:wheat;font-family:'Montserrat';padding:40px;\">IRM</h1>"
   ]
  },
  {
   "cell_type": "markdown",
   "id": "b7ae7877-6645-44e6-9b29-34be95ae37d6",
   "metadata": {},
   "source": [
    "<h4 style=\"font-weight:200;\">Exercice 1</h4><br>\n",
    "Un loup hurle avec une puissance sonore d'environ 70W. Le son du hurlement se propage de manière sphérique dans l'air.\n"
   ]
  },
  {
   "cell_type": "markdown",
   "id": "fda2c41c-9da8-4ef2-8488-70b2d4a247c7",
   "metadata": {},
   "source": [
    "- Q1: Calculer l'intensité sonore I du cri du loup à d = 100m puis à d = 500m."
   ]
  },
  {
   "cell_type": "code",
   "execution_count": 5,
   "id": "d72f383e-4c24-46fb-b63a-c51ee566ede9",
   "metadata": {},
   "outputs": [],
   "source": [
    "import math\n",
    "def Intensité(P,d):\n",
    "    I = P/(math.pi * 4 * pow(d,2))\n",
    "    result = round(I,7)\n",
    "    print(str(result)+ \" W/m²\")\n",
    "    return result"
   ]
  },
  {
   "cell_type": "code",
   "execution_count": 130,
   "id": "410f86b1-05c6-43fb-b621-21f9a8dc93ab",
   "metadata": {},
   "outputs": [
    {
     "name": "stdout",
     "output_type": "stream",
     "text": [
      "0.000557 W/m²\n"
     ]
    },
    {
     "data": {
      "text/plain": [
       "0.000557"
      ]
     },
     "execution_count": 130,
     "metadata": {},
     "output_type": "execute_result"
    }
   ],
   "source": [
    "Intensité(70,100)"
   ]
  },
  {
   "cell_type": "code",
   "execution_count": 131,
   "id": "76cb1490-67f5-4f26-a0f9-ad12801ba3ed",
   "metadata": {},
   "outputs": [
    {
     "name": "stdout",
     "output_type": "stream",
     "text": [
      "2.23e-05 W/m²\n"
     ]
    },
    {
     "data": {
      "text/plain": [
       "2.23e-05"
      ]
     },
     "execution_count": 131,
     "metadata": {},
     "output_type": "execute_result"
    }
   ],
   "source": [
    "Intensité(70,500)"
   ]
  },
  {
   "cell_type": "markdown",
   "id": "a0d40cea-1363-4457-a6d8-0cc5cb6d1db1",
   "metadata": {},
   "source": [
    "- Q2: Calculer le niveau de l'intensité sonore L du cri du loup à d = 100m puis à d = 500m."
   ]
  },
  {
   "cell_type": "code",
   "execution_count": 16,
   "id": "92a28ed1-b0a1-41f0-8a42-a4bc8dfe4580",
   "metadata": {},
   "outputs": [],
   "source": [
    "import math\n",
    "from math import log \n",
    "def IntensitéSonore(I):\n",
    "    I0= pow(10,-12)\n",
    "    L = 10*log(I/I0,10)\n",
    "    result= round(L,4)\n",
    "    print(str(result)+ \" dB \") \n",
    "    return result"
   ]
  },
  {
   "cell_type": "code",
   "execution_count": 17,
   "id": "7132eb38-bfb8-4d1c-93d9-67f82ce4f096",
   "metadata": {},
   "outputs": [
    {
     "name": "stdout",
     "output_type": "stream",
     "text": [
      "87.4589 dB \n"
     ]
    },
    {
     "data": {
      "text/plain": [
       "87.4589"
      ]
     },
     "execution_count": 17,
     "metadata": {},
     "output_type": "execute_result"
    }
   ],
   "source": [
    "IntensitéSonore(0.0005570423008216337)"
   ]
  },
  {
   "cell_type": "markdown",
   "id": "93881ad6-6a5f-4c69-a922-2fd53766fe96",
   "metadata": {},
   "source": [
    "- Q3: Le seuil de danger correspond à respond à un son de 85 dB pendant T = 8h Ce seuil augmente de 3 dB si la durée d'exposition est divisée par 2. Si un loup hurle avec une puissance P = 7.9 * 10 <sup> - 3</sup> * W à une distance d = 1m .Pendant combien de temps une personne peut-elle supporter cette situation?"
   ]
  },
  {
   "cell_type": "code",
   "execution_count": 18,
   "id": "826a6f7e-d4b9-46cc-80d5-9400424414aa",
   "metadata": {},
   "outputs": [],
   "source": [
    "def SueilDanger(P,d):\n",
    "    Temps = 8\n",
    "    niveau_de_intensité_de_base = 85\n",
    "    I = Intensité(P,d)\n",
    "    L = IntensitéSonore(I)\n",
    "    if type(L)==float:\n",
    "        L = math.floor(L)+1\n",
    "        result  = L - niveau_de_intensité_de_base\n",
    "    if type(L)== int:\n",
    "        result = L - niveau_de_intensité_de_base\n",
    "    print(result)\n",
    "    f = result/3\n",
    "    Temps_requis = Temps/ (f*2) \n",
    "    return str(Temps_requis) +\" h \""
   ]
  },
  {
   "cell_type": "code",
   "execution_count": 19,
   "id": "7d44a23b-95b4-4371-abef-33ccb1ee5c6d",
   "metadata": {
    "scrolled": true
   },
   "outputs": [
    {
     "name": "stdout",
     "output_type": "stream",
     "text": [
      "0.0006287 W/m²\n",
      "87.9844 dB \n",
      "3\n"
     ]
    },
    {
     "data": {
      "text/plain": [
       "'4.0 h '"
      ]
     },
     "execution_count": 19,
     "metadata": {},
     "output_type": "execute_result"
    }
   ],
   "source": [
    "SueilDanger(7.9*pow(10,-3),1)"
   ]
  },
  {
   "cell_type": "markdown",
   "id": "27985ac0-e318-4718-9ef3-b79079910786",
   "metadata": {},
   "source": [
    "<h4 style=\"font-weight:200\">Exercice 2 <small>(Faut-il porter des bouchons d'oreilles pour les personnes à proximité d'une mine ?)</small></h4>\n",
    "<p>\n",
    "   Pour extraire les minerais des gisements peu profonds, on réalise une opération d'abattage dans la mine qui consiste à détacher la roche à extraire du massif et à la réduire en éléments plus petits facilitant son traitement et son transport. Pour les per- sonnes à proximité du site d'extraction, les sons émis par les explosions successives risquent de heurter ceux sensibles des oreilles.\n",
    "\n",
    "En vue de respecter les normes relatives aux contraintes sonores, on doit fixer les distances séparant la présence humaine et les sources des explosions, leurs puissances, le nombre d'explosions simultanées ainsi que le port ou non des bouchons d'oreilles.\n",
    "\n",
    "A l'aide des documents (cours) et des données ci-dessous, répondre aux questions suivantes:\n",
    "</p>"
   ]
  },
  {
   "cell_type": "markdown",
   "id": "53fe1f6e-4aa0-4335-bb56-d97877148102",
   "metadata": {},
   "source": [
    "- Q1: Pour une source d'explosion ayant une puissance acoustique P, donner l'expression de l'intensité sonore perçue à une distance d et évaluer la pour un niveau d'intensité sonore avoisinant celui d'une sensation douloureuse?"
   ]
  },
  {
   "cell_type": "code",
   "execution_count": 20,
   "id": "a99cdb8c-4115-4442-9850-3903e5316b0e",
   "metadata": {},
   "outputs": [],
   "source": [
    "def function(L):\n",
    "    I = math.pow(10,(L/10) + (-12))\n",
    "    return (I) "
   ]
  },
  {
   "cell_type": "code",
   "execution_count": 21,
   "id": "8e146050-6064-4f35-8df5-b751998ff83b",
   "metadata": {},
   "outputs": [
    {
     "data": {
      "text/plain": [
       "1.0"
      ]
     },
     "execution_count": 21,
     "metadata": {},
     "output_type": "execute_result"
    }
   ],
   "source": [
    "function(120)"
   ]
  },
  {
   "cell_type": "code",
   "execution_count": 22,
   "id": "8428ad1a-70cd-443b-b476-aa8be1ba4ad1",
   "metadata": {},
   "outputs": [],
   "source": [
    "def N_Source(L,P,S):\n",
    "    I = math.pow(10,(L/10) -math.log(P) + math.log((S*math.pow(10,-12))))\n",
    "    return (N) "
   ]
  },
  {
   "cell_type": "code",
   "execution_count": null,
   "id": "a1d58829-7392-44ca-ab82-f0d7562c1463",
   "metadata": {},
   "outputs": [],
   "source": []
  },
  {
   "cell_type": "code",
   "execution_count": 23,
   "id": "fbd20930-f026-4327-a9f8-77fc05ac032b",
   "metadata": {},
   "outputs": [],
   "source": [
    "def distance(L,P):\n",
    "    I= function(L)\n",
    "    S = P/(I*4*math.pi)\n",
    "    d = math.sqrt(S)\n",
    "    return f'la distance est :{d}'"
   ]
  },
  {
   "cell_type": "code",
   "execution_count": null,
   "id": "156deef1-6663-4200-93c1-a05ce00d5f18",
   "metadata": {},
   "outputs": [],
   "source": []
  },
  {
   "cell_type": "markdown",
   "id": "2d29dd5e-3639-4d89-a92b-97db5d97abb1",
   "metadata": {},
   "source": [
    "### Exercice 3"
   ]
  },
  {
   "cell_type": "code",
   "execution_count": 24,
   "id": "8e4bb8ff-a449-462b-9b04-91f786c16aeb",
   "metadata": {},
   "outputs": [],
   "source": [
    "def Le(N,I):\n",
    "    L= IntensitéSonore(I)\n",
    "    if typeof(math.log(N)) == int:\n",
    "        result = L + 10 * math.log(N)\n",
    "        return result\n",
    "    else :\n",
    "        return 'Sorry but the N value given must be a powers of ten'\n"
   ]
  },
  {
   "cell_type": "markdown",
   "id": "bc39fc54-0531-497a-88af-a70820db8de5",
   "metadata": {},
   "source": [
    "def Ie (N,P,d):\n",
    "    return N* Intensité(P,d)\n",
    "IntensitéSonore(Ie(1000,21,3))"
   ]
  },
  {
   "cell_type": "markdown",
   "id": "6b354fb9-35b8-46ca-a1b1-d4142693a53d",
   "metadata": {},
   "source": [
    "### Exercice 4\n"
   ]
  },
  {
   "cell_type": "code",
   "execution_count": 1,
   "id": "808f0d2e-34bb-4fb9-9756-107288a12422",
   "metadata": {},
   "outputs": [],
   "source": [
    "def temps(taille,debit):\n",
    "    return taille/debit\n",
    "def taille(temps,debit):\n",
    "    return temps*debit\n",
    "def upload(téléchargement):\n",
    "    return téléchargement/8\n",
    "def debit(temps,taille):\n",
    "    return taille/temps"
   ]
  },
  {
   "cell_type": "code",
   "execution_count": 2,
   "id": "edddbff1-508e-4dd5-b31e-79f48527a70e",
   "metadata": {},
   "outputs": [
    {
     "data": {
      "text/plain": [
       "0.256"
      ]
     },
     "execution_count": 2,
     "metadata": {},
     "output_type": "execute_result"
    }
   ],
   "source": [
    "temps(6.4,upload(200))"
   ]
  },
  {
   "cell_type": "code",
   "execution_count": 3,
   "id": "02b1d537-9cb4-4aaa-8f68-5bce5ee822b5",
   "metadata": {},
   "outputs": [
    {
     "data": {
      "text/plain": [
       "0.032"
      ]
     },
     "execution_count": 3,
     "metadata": {},
     "output_type": "execute_result"
    }
   ],
   "source": [
    "temps(6.4,200)"
   ]
  },
  {
   "cell_type": "markdown",
   "id": "3c1aa307-088d-4c9e-b7bf-804c4e3b0d21",
   "metadata": {},
   "source": [
    "### Exercice 5 "
   ]
  },
  {
   "cell_type": "code",
   "execution_count": 13,
   "id": "d8e3b1ae-aee7-43c6-a01e-24a1613bdea3",
   "metadata": {},
   "outputs": [],
   "source": [
    "def CM_à_Pouce(taille):\n",
    "    pouce = taille /2.54\n",
    "    return pouce"
   ]
  },
  {
   "cell_type": "code",
   "execution_count": 33,
   "id": "8e33d19f-cc43-434c-9e96-34c7201060a8",
   "metadata": {},
   "outputs": [],
   "source": [
    "def taille_d_une_image_compressé(taux_de_compression,resolution , width_en_cm ,height_en_cm,codage ):\n",
    "    pixels_width = CM_à_Pouce(width_en_cm)\n",
    "    pixels_height = CM_à_Pouce(height_en_cm)\n",
    "    nombre_de_pixels_width = pixels_width*(resolution)\n",
    "    nombre_de_pixels_height = pixels_height*resolution\n",
    "    print((pixels_height,pixels_width))\n",
    "    taille= (nombre_de_pixels_width*nombre_de_pixels_height*codage)\n",
    "    taille_aprés_compression = taille *((100-taux_de_compression)/100)\n",
    "    return taille_aprés_compression / (8 * 1024 * 1024)\n"
   ]
  },
  {
   "cell_type": "code",
   "execution_count": 34,
   "id": "a66f8624-6327-4356-b7f1-ffd6c99c26a4",
   "metadata": {},
   "outputs": [
    {
     "name": "stdout",
     "output_type": "stream",
     "text": [
      "(3.543307086614173, 4.724409448818897)\n"
     ]
    },
    {
     "data": {
      "text/plain": [
       "8.980053741967836"
      ]
     },
     "execution_count": 34,
     "metadata": {},
     "output_type": "execute_result"
    }
   ],
   "source": [
    "taille_d_une_image_compressé(25,500,12,9,24)"
   ]
  },
  {
   "cell_type": "code",
   "execution_count": null,
   "id": "4373c3a8-0003-4c72-81b3-3d9721ea70b5",
   "metadata": {},
   "outputs": [],
   "source": []
  },
  {
   "cell_type": "code",
   "execution_count": null,
   "id": "da254a90-5ee8-403a-b428-aa60276e5d0f",
   "metadata": {},
   "outputs": [],
   "source": []
  }
 ],
 "metadata": {
  "kernelspec": {
   "display_name": "Python 3 (ipykernel)",
   "language": "python",
   "name": "python3"
  },
  "language_info": {
   "codemirror_mode": {
    "name": "ipython",
    "version": 3
   },
   "file_extension": ".py",
   "mimetype": "text/x-python",
   "name": "python",
   "nbconvert_exporter": "python",
   "pygments_lexer": "ipython3",
   "version": "3.10.11"
  }
 },
 "nbformat": 4,
 "nbformat_minor": 5
}
