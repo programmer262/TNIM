{
 "cells": [
  {
   "cell_type": "markdown",
   "id": "a3f86819-1a42-4cd5-8095-140db549773f",
   "metadata": {},
   "source": [
    "<h1 style=\"color:orange;text-align:center;font-family:'Montserrat';padding:40px; word-spacing:10px;\">TD 2 : TNIM</h1>"
   ]
  },
  {
   "cell_type": "markdown",
   "id": "e609fc53-fff5-4bd2-9537-668e15cf607a",
   "metadata": {},
   "source": [
    "<h4 style=\"font-weight:400;font-family:Monospace;color:darkorange;\">Exercice 1:</h4>\n"
   ]
  },
  {
   "cell_type": "markdown",
   "id": "e236d45d-da52-45d5-9b15-60f35fd1f8c7",
   "metadata": {},
   "source": [
    "## print(\"Donnez la donnée\")\n",
    "DATA = input()\n",
    "def check(data):\n",
    "    if data.isdigit():\n",
    "        if float(data).is_integer(): \n",
    "            print(data + \" est de type \" +str( type(float(data))))\n",
    "        elif isinstance(int(data), int):\n",
    "            print(data + \" est de type \" +str( type(int(data))))\n",
    "    elif data.isalpha():\n",
    "        print(\"le type de cette donnée est str\")\n",
    "check(DATA)"
   ]
  },
  {
   "cell_type": "code",
   "execution_count": 18,
   "id": "14fc9854-e488-47d9-a233-dca5b013cd81",
   "metadata": {},
   "outputs": [
    {
     "name": "stdout",
     "output_type": "stream",
     "text": [
      "Enter your credentials\n"
     ]
    },
    {
     "name": "stdin",
     "output_type": "stream",
     "text": [
      "Donnez votre prénom achraf\n",
      "Donnez votre nom chahin\n",
      "Donnez L'age 18\n"
     ]
    },
    {
     "name": "stdout",
     "output_type": "stream",
     "text": [
      "Prénom :achraf| Nom : chahin| Age : 18\n"
     ]
    }
   ],
   "source": [
    "print(\"Enter your credentials\")\n",
    "first_name=input(\"Donnez votre prénom\")\n",
    "last_name = input(\"Donnez votre nom\")\n",
    "age = int(input(\"Donnez L'age\"))\n",
    "print('Prénom :'+ first_name + ' | Nom : '+ last_name+ \" | Age : \" + str(age))"
   ]
  },
  {
   "cell_type": "code",
   "execution_count": 23,
   "id": "c80f3c1a-b841-4e40-a843-722f6c5a5c37",
   "metadata": {},
   "outputs": [
    {
     "name": "stdout",
     "output_type": "stream",
     "text": [
      "Donnez le rayon d'une sphére\n"
     ]
    },
    {
     "name": "stdin",
     "output_type": "stream",
     "text": [
      "entrez la valeur du rayon: 3\n"
     ]
    },
    {
     "name": "stdout",
     "output_type": "stream",
     "text": [
      "le volume est 113.10 m^3\n"
     ]
    }
   ],
   "source": [
    "from math import pi\n",
    "\n",
    "print(\"Donnez le rayon d'une sphére\")\n",
    "r = int(input(\"entrez la valeur du rayon:\"))\n",
    "volume = 4 * pi * pow(r,3)/3\n",
    "print(\"le volume est {:.2f} m^3\".format(volume))"
   ]
  },
  {
   "cell_type": "code",
   "execution_count": 24,
   "id": "29b88057-b2bc-43e4-b262-fbf5fc17f96c",
   "metadata": {},
   "outputs": [
    {
     "name": "stdout",
     "output_type": "stream",
     "text": [
      "donnez le nombre \n"
     ]
    },
    {
     "name": "stdin",
     "output_type": "stream",
     "text": [
      "Donnez le nombre 324\n"
     ]
    },
    {
     "name": "stdout",
     "output_type": "stream",
     "text": [
      "9\n"
     ]
    }
   ],
   "source": [
    "print(\"donnez le nombre \")\n",
    "nb = input(\"Donnez le nombre\")\n",
    "somme = 0\n",
    "for i in nb:\n",
    "    somme = somme + int(i)\n",
    "print(somme)"
   ]
  },
  {
   "cell_type": "code",
   "execution_count": 25,
   "id": "8bfae80b-9752-4a35-a1f8-2db0e7887960",
   "metadata": {},
   "outputs": [
    {
     "name": "stdout",
     "output_type": "stream",
     "text": [
      "Donnez la chaine et le nombre:\n"
     ]
    },
    {
     "name": "stdin",
     "output_type": "stream",
     "text": [
      "entrez la valeur du entier: 2324\n",
      "donnez la chaine de charactéres Promotion\n"
     ]
    },
    {
     "name": "stdout",
     "output_type": "stream",
     "text": [
      "Promotion2324\n"
     ]
    }
   ],
   "source": [
    "print(\"Donnez la chaine et le nombre:\")\n",
    "entier = int(input(\"entrez la valeur du entier:\"))\n",
    "chaines= input(\"donnez la chaine de charactéres\")\n",
    "print(chaines+ str(entier))\n"
   ]
  },
  {
   "cell_type": "markdown",
   "id": "078a2e48-2cd1-47c2-a6fd-c819e5bd8621",
   "metadata": {},
   "source": [
    "Question 6:"
   ]
  },
  {
   "cell_type": "code",
   "execution_count": 6,
   "id": "53634201-2457-4b2c-8a55-a926685ea0e6",
   "metadata": {},
   "outputs": [
    {
     "name": "stdin",
     "output_type": "stream",
     "text": [
      " 10400\n"
     ]
    },
    {
     "name": "stdout",
     "output_type": "stream",
     "text": [
      "104 dirhames et 0 centimes\n"
     ]
    }
   ],
   "source": [
    "x = int(input())\n",
    "dhs = int(x/100)\n",
    "centimes = x %100\n",
    "print(str(dhs)+\" dirhames et \"+ str(centimes)+\" centimes\")\n"
   ]
  },
  {
   "cell_type": "markdown",
   "id": "d6dcb227-3823-42e6-b8ef-8eb6a46828b0",
   "metadata": {},
   "source": [
    "<h4>Exercice 2 &nbsp;:</h4>\n"
   ]
  },
  {
   "cell_type": "markdown",
   "id": "6a866c05-60c6-4b5e-bc04-1d6cb65dbc48",
   "metadata": {},
   "source": [
    "Q1:"
   ]
  },
  {
   "cell_type": "code",
   "execution_count": 14,
   "id": "ff5f96c7-965e-4c3f-84c4-2858a3d3038b",
   "metadata": {},
   "outputs": [
    {
     "name": "stdout",
     "output_type": "stream",
     "text": [
      "[58, 52, 22, 42]\n"
     ]
    }
   ],
   "source": [
    "from random import randint\n",
    "N= []\n",
    "for i in range(1,5):\n",
    "    x= randint(1,100)\n",
    "    N.append(x)\n",
    "print(N)"
   ]
  },
  {
   "cell_type": "markdown",
   "id": "d6116dc4-5450-4c33-89b4-8e616b919851",
   "metadata": {},
   "source": [
    "<ul style=\"\"> Q2: <li > donne le nombre de caractéres de chaque élement de la liste</li></ul>"
   ]
  },
  {
   "cell_type": "code",
   "execution_count": 1,
   "id": "a4cb540e-f5f5-41d9-b757-69b132f56be5",
   "metadata": {},
   "outputs": [
    {
     "name": "stdout",
     "output_type": "stream",
     "text": [
      "5\n",
      "4\n",
      "5\n",
      "6\n",
      "6\n",
      "6\n"
     ]
    }
   ],
   "source": [
    "L=[\"lapin\",\"chat\",\"chien\",\"tortue\",\"dragon\",\"oiseau\"]\n",
    "for i in L:\n",
    "    print(len(i))"
   ]
  },
  {
   "cell_type": "markdown",
   "id": "aa61c16c-a6c8-4230-b801-19edb58b8e6c",
   "metadata": {},
   "source": [
    "<ul>Q3<li>soit la liste P = [4, \"test\", 5.23, 2+3i ]</li></ul>"
   ]
  },
  {
   "cell_type": "code",
   "execution_count": 2,
   "id": "e6d3ca12-e95c-4600-908b-002ab42d188c",
   "metadata": {},
   "outputs": [
    {
     "name": "stdout",
     "output_type": "stream",
     "text": [
      "[4, 'test', 5.23, (2+3j), 'Ami']\n",
      "[4, 'test', 5.23, (2+3j), 'Ami']\n"
     ]
    }
   ],
   "source": [
    "P = [4, \"test\", 5.23, 2+3j ]\n",
    "T=P \n",
    "T.append(\"Ami\")\n",
    "print(T)\n",
    "print(P)"
   ]
  },
  {
   "cell_type": "markdown",
   "id": "7cdd9d5a-e5f4-40a4-9a29-8a7a2b4f717b",
   "metadata": {},
   "source": [
    "<p>on constate que dans le code ci-dessous le mot 'Ami' a été ajouter dans les deux listes</p>"
   ]
  },
  {
   "cell_type": "markdown",
   "id": "d1572795-055c-4979-94b2-3441e840657d",
   "metadata": {},
   "source": [
    "<li>Maintenant , réaliser une copie de P dans Y,refaites l'opération,que constatez cette fois-ci</li>"
   ]
  },
  {
   "cell_type": "code",
   "execution_count": 3,
   "id": "18ab7c33-8c71-40db-8892-2245bcf44f4a",
   "metadata": {},
   "outputs": [
    {
     "name": "stdout",
     "output_type": "stream",
     "text": [
      "[4, 'test', 5.23, (2+3j), 'Ami']\n",
      "[4, 'test', 5.23, (2+3j)]\n"
     ]
    }
   ],
   "source": [
    "P = [4, \"test\", 5.23, 2+3j ]\n",
    "Y=P.copy()\n",
    "Y.append(\"Ami\")\n",
    "print(Y)\n",
    "print(P)"
   ]
  },
  {
   "cell_type": "markdown",
   "id": "fedd7857-4dbf-43fd-b647-4bac7318aec7",
   "metadata": {},
   "source": [
    "<p>on constate que dans le code ci-dessous le mot 'Ami' a été ajouter juste dans la liste Y mais pas dans la liste P</p>"
   ]
  },
  {
   "cell_type": "markdown",
   "id": "671064eb-35b0-4d2b-8efb-0ba2758f2cec",
   "metadata": {},
   "source": [
    "Q4: "
   ]
  },
  {
   "cell_type": "code",
   "execution_count": 4,
   "id": "c52a6a86-3bf1-4123-af31-2d182892bcb3",
   "metadata": {},
   "outputs": [
    {
     "name": "stdin",
     "output_type": "stream",
     "text": [
      "Donnez la valeur de n 9\n"
     ]
    },
    {
     "name": "stdout",
     "output_type": "stream",
     "text": [
      "0\n",
      "1\n",
      "4\n",
      "9\n",
      "16\n",
      "25\n",
      "36\n",
      "49\n",
      "64\n",
      "81\n"
     ]
    }
   ],
   "source": [
    "Compréhension = []\n",
    "x = int(input(\"Donnez la valeur de n\"))\n",
    "for i in range(0,x+1,1):\n",
    "    print(pow(i,2))"
   ]
  },
  {
   "cell_type": "markdown",
   "id": "ff1c4d7d-664e-47f6-9f43-b2d2d11c2847",
   "metadata": {},
   "source": [
    "Q6:"
   ]
  },
  {
   "cell_type": "code",
   "execution_count": null,
   "id": "d3271eca-bcfb-4b1a-b03b-db0c09a1f73a",
   "metadata": {},
   "outputs": [],
   "source": []
  },
  {
   "cell_type": "markdown",
   "id": "7d2b904b-4d57-47b1-b294-08daddda66c2",
   "metadata": {},
   "source": [
    "Exercice 3:"
   ]
  },
  {
   "cell_type": "code",
   "execution_count": null,
   "id": "c77f0926-0d07-4ca2-a92f-afded81ca314",
   "metadata": {},
   "outputs": [],
   "source": []
  },
  {
   "cell_type": "markdown",
   "id": "8bc25f24-46c0-48e4-8ad1-3cd2b44d73f0",
   "metadata": {},
   "source": [
    "Q2:"
   ]
  },
  {
   "cell_type": "code",
   "execution_count": 22,
   "id": "14298418-78e1-4520-992c-cf68cbfeb531",
   "metadata": {},
   "outputs": [
    {
     "name": "stdout",
     "output_type": "stream",
     "text": [
      "{'7': 6, '8': 9, '2': 11, '6': 5, '4': 15, '5': 13, '3': 11, '1': 9, '10': 12, '9': 9}\n"
     ]
    }
   ],
   "source": [
    "import random \n",
    "L=[]\n",
    "Dictionnaire={}\n",
    "for i in range(0,100):\n",
    "    x = random.randint(1,10)\n",
    "    L.append(x)\n",
    "for i in L:\n",
    "    occ = L.count(i)\n",
    "    Dictionnaire[f\"{i}\"]=occ\n",
    "print(Dictionnaire)"
   ]
  },
  {
   "cell_type": "code",
   "execution_count": 2,
   "id": "0b46ac8e-ca77-40b7-8eaa-68e0984329d3",
   "metadata": {},
   "outputs": [
    {
     "name": "stdin",
     "output_type": "stream",
     "text": [
      "Nombre de personne 2\n",
      "Donnez le nom:  chahin\n",
      "Donnez le prénom:  achraf\n",
      "Donnez l'age d'individu:  21\n",
      "Donnez le nom:  Lakhbizi \n",
      "Donnez le prénom:  Hind\n",
      "Donnez l'age d'individu:  32\n"
     ]
    },
    {
     "name": "stdout",
     "output_type": "stream",
     "text": [
      "[['chahin', 'achraf', 21], ['Lakhbizi ', 'Hind', 32]]\n"
     ]
    }
   ],
   "source": [
    "Individu=[]\n",
    "Pers=[]\n",
    "\n",
    "N= int(input(\"Nombre de personne\"))\n",
    "for i in range(0,N):\n",
    "    nom = input(\"Donnez le nom: \")\n",
    "    prénom=input(\"Donnez le prénom: \")\n",
    "    age = int(input(\"Donnez l'age d'individu: \"))\n",
    "    Individu.append(nom)\n",
    "    Individu.append(prénom)\n",
    "    Individu.append(age)\n",
    "    Personne = Individu.copy()\n",
    "    Pers.append(Personne)\n",
    "    Individu.clear()\n",
    "    \n",
    "\n",
    "print(Pers)"
   ]
  },
  {
   "cell_type": "code",
   "execution_count": 9,
   "id": "93b88884-609e-46b8-a039-01b40a1db000",
   "metadata": {},
   "outputs": [
    {
     "name": "stdout",
     "output_type": "stream",
     "text": [
      "[21, 32]\n",
      "53\n",
      "26.5 an est l'age moyen \n"
     ]
    }
   ],
   "source": [
    "ages =[]\n",
    "somme =0\n",
    "for i in Pers:\n",
    "    ages.append(i[2])\n",
    "print(ages)\n",
    "for i in ages:\n",
    "    somme  +=  i\n",
    "print(somme)\n",
    "age_moyen=somme/len(ages)\n",
    "print(str(age_moyen)+\" an est l'age moyen \")"
   ]
  },
  {
   "cell_type": "code",
   "execution_count": 10,
   "id": "dffdc6a1-b836-4ee8-8a33-176fe8a01a4b",
   "metadata": {},
   "outputs": [
    {
     "name": "stdin",
     "output_type": "stream",
     "text": [
      " 21\n"
     ]
    },
    {
     "name": "stdout",
     "output_type": "stream",
     "text": [
      "Nom : chahin  Prénom:  achraf\n"
     ]
    }
   ],
   "source": [
    "age_donnée=int(input())\n",
    "for i in Pers:\n",
    "    if age_donnée==i[2]:\n",
    "        print(\"Nom :\", i[0], \" Prénom: \",i[1] )\n",
    "    "
   ]
  },
  {
   "cell_type": "code",
   "execution_count": 14,
   "id": "a896ff21-715f-47f6-a266-7b4dbbedc4c4",
   "metadata": {},
   "outputs": [
    {
     "name": "stdin",
     "output_type": "stream",
     "text": [
      " 30\n"
     ]
    },
    {
     "name": "stdout",
     "output_type": "stream",
     "text": [
      "[['chahin', 'achraf', 21]]\n"
     ]
    }
   ],
   "source": [
    "age_donnée=int(input())\n",
    "Liste=[]\n",
    "for i in Pers:\n",
    "    if age_donnée>i[2]:\n",
    "        Liste.append(i)\n",
    "print(Liste)"
   ]
  },
  {
   "cell_type": "code",
   "execution_count": null,
   "id": "f654ad3c-fcc0-4e8e-bc43-6889932d991f",
   "metadata": {},
   "outputs": [],
   "source": []
  }
 ],
 "metadata": {
  "kernelspec": {
   "display_name": "Python 3 (ipykernel)",
   "language": "python",
   "name": "python3"
  },
  "language_info": {
   "codemirror_mode": {
    "name": "ipython",
    "version": 3
   },
   "file_extension": ".py",
   "mimetype": "text/x-python",
   "name": "python",
   "nbconvert_exporter": "python",
   "pygments_lexer": "ipython3",
   "version": "3.10.11"
  }
 },
 "nbformat": 4,
 "nbformat_minor": 5
}
