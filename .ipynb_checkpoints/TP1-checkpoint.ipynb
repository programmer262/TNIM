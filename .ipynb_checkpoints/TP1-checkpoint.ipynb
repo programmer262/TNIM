{
 "cells": [
  {
   "cell_type": "markdown",
   "id": "fb8c25bf-005f-4d78-8044-e8bfd694557d",
   "metadata": {},
   "source": [
    "<h1 style=\"text-align:center;color:red\"> TP1 : TNIM </h1>"
   ]
  },
  {
   "cell_type": "code",
   "execution_count": 3,
   "id": "a14573f6-371d-4aff-b6db-f03307d34f2f",
   "metadata": {},
   "outputs": [],
   "source": [
    "from math import * \n",
    "from TP1_module import *\n"
   ]
  },
  {
   "cell_type": "markdown",
   "id": "c799c13c-c386-4128-b141-b9efa41b188e",
   "metadata": {},
   "source": [
    "#### Exercice1 :"
   ]
  },
  {
   "cell_type": "markdown",
   "id": "21af4138-fea3-428e-873d-2a2c9bedb65b",
   "metadata": {},
   "source": [
    "<h5>Question 1:</h5>"
   ]
  },
  {
   "cell_type": "code",
   "execution_count": 97,
   "id": "2fc2b465-f6eb-4c2c-9dd7-4e93919abfb0",
   "metadata": {},
   "outputs": [
    {
     "name": "stdin",
     "output_type": "stream",
     "text": [
      "Donnez le nombre 2\n"
     ]
    },
    {
     "name": "stdout",
     "output_type": "stream",
     "text": [
      "Le nombre est invalide\n"
     ]
    }
   ],
   "source": [
    "nbr = int(input(\"Donnez le nombre\"))\n",
    "if nbr <0:\n",
    "    print('nombre invalid')\n",
    "elif sqrt(nbr).is_integer():\n",
    "    print(\"C'est un nombre carrée\")\n",
    "else:\n",
    "    print(\"Le nombre est invalide\")"
   ]
  },
  {
   "cell_type": "markdown",
   "id": "12089c84-c645-43bc-85ce-c999309f0aa4",
   "metadata": {},
   "source": [
    "<h5>Question 2:</h5>"
   ]
  },
  {
   "cell_type": "code",
   "execution_count": 66,
   "id": "cdb35065-c91b-423a-929b-4894e9013398",
   "metadata": {},
   "outputs": [
    {
     "name": "stdin",
     "output_type": "stream",
     "text": [
      "Donnez le nbr  55\n"
     ]
    },
    {
     "name": "stdout",
     "output_type": "stream",
     "text": [
      "[1, 5, 11]\n"
     ]
    }
   ],
   "source": [
    "\n",
    "nbr = int(input(\"Donnez le nbr \"))\n",
    "Diviseurs = []\n",
    "for i in range(1,nbr,1):\n",
    "    if (nbr%i)==0:\n",
    "        Diviseurs.append(i)\n",
    "    else:\n",
    "        pass\n",
    "print(Diviseurs)"
   ]
  },
  {
   "cell_type": "code",
   "execution_count": 104,
   "id": "f912e832-b426-4476-9532-cb7e2d0f81cf",
   "metadata": {},
   "outputs": [
    {
     "name": "stdin",
     "output_type": "stream",
     "text": [
      "Donnez le nbr  9\n"
     ]
    },
    {
     "name": "stdout",
     "output_type": "stream",
     "text": [
      "[1, 3, 9]\n"
     ]
    }
   ],
   "source": [
    "nbr = int(input(\"Donnez le nbr \"))\n",
    "Diviseurs = [i for i in range(1,nbr+1) if nbr%i==0 ]\n",
    "\n",
    "print(Diviseurs)"
   ]
  },
  {
   "cell_type": "markdown",
   "id": "cd8140cc-826e-4e44-97f5-cb24569f0b15",
   "metadata": {},
   "source": [
    "<h5>Question 3:</h5>"
   ]
  },
  {
   "cell_type": "code",
   "execution_count": 75,
   "id": "ca203af2-da37-4114-ba01-6103f57ae258",
   "metadata": {},
   "outputs": [
    {
     "name": "stdout",
     "output_type": "stream",
     "text": [
      "dés 1 = 3\n",
      "dés 2 = 5\n",
      ".    \n",
      "  .  \n",
      "    .\n",
      "\n",
      "\n",
      ".   .\n",
      "  .  \n",
      ".   .\n"
     ]
    }
   ],
   "source": [
    "import random\n",
    "\n",
    "dice_faces = {\n",
    "        1: [[\" \", \" \", \" \"],\n",
    "            [\" \", \".\", \" \"],\n",
    "            [\" \", \" \", \" \"]],\n",
    "\n",
    "        2: [[\".\", \" \", \" \"],\n",
    "            [\" \", \" \", \" \"],\n",
    "            [\" \", \" \", \".\"]],\n",
    "\n",
    "        3: [[\".\", \" \", \" \"],\n",
    "            [\" \", \".\", \" \"],\n",
    "            [\" \", \" \", \".\"]],\n",
    "\n",
    "        4: [[\".\", \" \", \".\"],\n",
    "            [\" \", \" \", \" \"],\n",
    "            [\".\", \" \", \".\"]],\n",
    "\n",
    "        5: [[\".\", \" \", \".\"],\n",
    "            [\" \", \".\", \" \"],\n",
    "            [\".\", \" \", \".\"]],\n",
    "\n",
    "        6: [[\".\", \" \", \".\"],\n",
    "            [\".\", \" \", \".\"],\n",
    "            [\".\", \" \", \".\"]],\n",
    "    \n",
    "\n",
    "}\n",
    "\n",
    "die1 = random.randint(1, 6)\n",
    "die2 = random.randint(1, 6)\n",
    "print(f'dés 1 = {die1}')\n",
    "print(f'dés 2 = {die2}')\n",
    "for i in dice_faces[die1]:\n",
    "    print(\" \".join(i))\n",
    "print(\"\\n\")\n",
    "for i in dice_faces[die2]:\n",
    "    print(\" \".join(i))\n",
    "\n"
   ]
  },
  {
   "cell_type": "markdown",
   "id": "2919d9ce-f464-45d0-beed-a55fbd38c144",
   "metadata": {},
   "source": [
    "<h5>Question 4:</h5>"
   ]
  },
  {
   "cell_type": "code",
   "execution_count": 116,
   "id": "312162e7-61e3-4f70-9c6a-96914cbb0866",
   "metadata": {},
   "outputs": [
    {
     "name": "stdout",
     "output_type": "stream",
     "text": [
      "[100, 101, 102, 103, 104, 105, 106, 107, 108, 109, 110, 120, 123, 130, 132, 138, 140, 145, 150, 154, 159, 160, 167, 170, 176, 180, 183, 189, 190, 195, 198, 200, 201, 202, 203, 204, 205, 206, 207, 208, 209, 210, 213, 220, 224, 230, 231, 235, 240, 242, 246, 250, 253, 257, 260, 264, 268, 270, 275, 279, 280, 286, 290, 297, 300, 301, 302, 303, 304, 305, 306, 307, 308, 309, 310, 312, 318, 320, 321, 325, 330, 333, 340, 345, 347, 350, 352, 354, 357, 360, 369, 370, 374, 375, 380, 381, 390, 396, 400, 401, 402, 403, 404, 405, 406, 407, 408, 409, 410, 415, 420, 422, 426, 430, 435, 437, 440, 448, 450, 451, 453, 456, 459, 460, 462, 465, 466, 470, 473, 480, 484, 490, 495, 500, 501, 502, 503, 504, 505, 506, 507, 508, 509, 510, 514, 519, 520, 523, 527, 530, 532, 534, 537, 540, 541, 543, 546, 549, 550, 560, 564, 570, 572, 573, 578, 579, 580, 587, 590, 591, 594, 597, 600, 601, 602, 603, 604, 605, 606, 607, 608, 609, 610, 617, 620, 624, 628, 630, 639, 640, 642, 645, 646, 650, 654, 660, 664, 666, 670, 671, 678, 680, 682, 687, 690, 693, 700, 701, 702, 703, 704, 705, 706, 707, 708, 709, 710, 716, 720, 725, 729, 730, 734, 735, 740, 743, 750, 752, 753, 758, 759, 760, 761, 768, 770, 780, 785, 786, 789, 790, 792, 795, 798, 800, 801, 802, 803, 804, 805, 806, 807, 808, 809, 810, 813, 819, 820, 826, 830, 831, 840, 844, 850, 857, 860, 862, 867, 870, 875, 876, 879, 880, 890, 891, 897, 900, 901, 902, 903, 904, 905, 906, 907, 908, 909, 910, 915, 918, 920, 927, 930, 936, 940, 945, 950, 951, 954, 957, 960, 963, 970, 972, 975, 978, 980, 981, 987, 990, 999]\n"
     ]
    }
   ],
   "source": [
    "liste  = []\n",
    "for j in range(100,1000):\n",
    "    i = str(j)\n",
    "    somme=0\n",
    "    produit=1\n",
    "    for m in i:\n",
    "        somme = somme +int(m)\n",
    "        produit = produit * int(m)\n",
    "    if produit % somme ==0:\n",
    "        liste.append(int(i))\n",
    "print(liste)"
   ]
  },
  {
   "cell_type": "markdown",
   "id": "960754ea-5d55-465b-add8-9fd9982fcf3b",
   "metadata": {},
   "source": [
    "<h5>Question 5:</h5>"
   ]
  },
  {
   "cell_type": "code",
   "execution_count": 118,
   "id": "045b71c4-2091-4c3f-a9b8-be0c08683ba5",
   "metadata": {},
   "outputs": [
    {
     "name": "stdout",
     "output_type": "stream",
     "text": [
      "[113, 131, 197, 199, 311, 337, 373, 719, 733, 919, 971, 991]\n"
     ]
    }
   ],
   "source": [
    "list = []\n",
    "\n",
    "\n",
    "# Exemple d'utilisation\n",
    "for nombre in range(100, 1000):  # Vérifie pour les nombres entre 100 et 999\n",
    "    if est_premier_circulaire(nombre):\n",
    "        list.append(nombre)\n",
    "print(list)"
   ]
  },
  {
   "cell_type": "markdown",
   "id": "313cd303-82a1-4811-aba4-6010e9b4534b",
   "metadata": {},
   "source": [
    "#### Exercice 2:"
   ]
  },
  {
   "cell_type": "markdown",
   "id": "7ba15e4b-19ed-4752-b212-0b9bcb89c518",
   "metadata": {},
   "source": [
    "<h5>Question 1</h5>"
   ]
  },
  {
   "cell_type": "code",
   "execution_count": 14,
   "id": "f3b16503-870d-4e8b-8b13-86e1dcabbb73",
   "metadata": {},
   "outputs": [
    {
     "name": "stdout",
     "output_type": "stream",
     "text": [
      "les nombres qui sont au dessus de la moyenne: [12, 14, 11, 18, 13, 15, 14, 16]\n"
     ]
    }
   ],
   "source": [
    "Notes = [12 ,4, 14 ,11 ,18,13,7,10,5,9,15,8,14,16]\n",
    "Au_dessous =[]\n",
    "for i in Notes :\n",
    "    if i >10 :\n",
    "        Au_dessous.append(i)\n",
    "print(\"les nombres qui sont au dessus de la moyenne:\" , Au_dessous)"
   ]
  },
  {
   "cell_type": "markdown",
   "id": "102f3dd9-170f-4f20-8409-beaecf221301",
   "metadata": {},
   "source": [
    "##### Question 3\n"
   ]
  },
  {
   "cell_type": "code",
   "execution_count": 131,
   "id": "64a91a30-a0df-4fd2-b651-b8a6733e04ff",
   "metadata": {},
   "outputs": [
    {
     "name": "stdin",
     "output_type": "stream",
     "text": [
      "donnez combien de charachtéres vous voulez ajoutez 3\n",
      "donnez le nombre dans le tableau: 32\n",
      "donnez la valeur dans le code ascii \" \"\n",
      "donnez le nombre dans le tableau: 127\n",
      "donnez la valeur dans le code ascii DEL\n",
      "donnez le nombre dans le tableau: 34\n",
      "donnez la valeur dans le code ascii '\n"
     ]
    },
    {
     "name": "stdout",
     "output_type": "stream",
     "text": [
      "{'32': '\" \"', '127': 'DEL', '34': \"'\"}\n"
     ]
    }
   ],
   "source": [
    "ASCII= {}\n",
    "ITERATION = int(input(\"donnez combien de charachtéres vous voulez ajoutez\"))\n",
    "for i in range(0,ITERATION,1):\n",
    "    key = int(input(\"donnez le nombre dans le tableau:\"))\n",
    "    valeur = input(\"donnez la valeur dans le code ascii\")\n",
    "    ASCII[f'{key}'] = valeur\n",
    "print(ASCII)"
   ]
  },
  {
   "cell_type": "markdown",
   "id": "ae39ec51-99e6-4167-8866-f3987a172a9a",
   "metadata": {},
   "source": [
    "<h4 style='margin-top:20px;margin-bottom:20px;padding:20px;text-align:center'>Question 4</h4>"
   ]
  },
  {
   "cell_type": "code",
   "execution_count": 1,
   "id": "ca882205-c110-47c1-be51-4c45e516377d",
   "metadata": {},
   "outputs": [
    {
     "name": "stdout",
     "output_type": "stream",
     "text": [
      "['voiture', 'Modéle', 'Moteur', 'Puissance maximale', 'Vitesse de pointe', 'Boîte de vitesses', 'Carosserie']\n",
      "['lamborghinie', 'Temerario', 'V8 bi-turbo', '920 CV', '343 Km/h', '8 vitesses', 'Carbone']\n",
      "[('voiture', 'lamborghinie'), ('Modéle', 'Temerario'), ('Moteur', 'V8 bi-turbo'), ('Puissance maximale', '920 CV'), ('Vitesse de pointe', '343 Km/h'), ('Boîte de vitesses', '8 vitesses'), ('Carosserie', 'Carbone')]\n",
      "{'voiture': 'lamborghinie', 'Moteur': 'V8 bi-turbo', 'Modéle': 'Temerario', 'Puissance maximale': '920 CV', 'Vitesse de pointe': '343 Km/h', 'Boîte de vitesses': '8 vitesses', 'Carosserie': 'Carbone'}\n",
      "[['voiture', 'lamborghinie'], ['Moteur', 'V8 bi-turbo'], ['Modéle', 'Temerario'], ['Batterie', 'Lithium-ion'], ['Puissance maximale', '920 CV'], ['Vitesse de pointe', '343 Km/h'], ['Boîte de vitesses', '8 vitesses'], ['Carosserie', 'Carbone']]\n"
     ]
    }
   ],
   "source": [
    "first_dict = {\n",
    "    \"voiture\": \"lamborghinie\",\n",
    "    \"Modéle\": \"Temerario\",\n",
    "    \"Moteur\": \"V8 bi-turbo\",\n",
    "    \"Puissance maximale\": \"920 CV\",\n",
    "    \"Vitesse de pointe\": \"343 Km/h\",\n",
    "    \"Boîte de vitesses\": \"8 vitesses\",\n",
    "    \"Carosserie\": \"Aliminum\"\n",
    "}\n",
    "#  1i\n",
    "\n",
    "first_dict[\"Carosserie\"] = \"Carbone\"\n",
    "# 2i\n",
    "\n",
    "L = [i for i in first_dict.keys()]\n",
    "print(L)\n",
    "L = [i for i in first_dict.values()]\n",
    "print(L)\n",
    "L = [(k,v) for k,v in first_dict.items()]\n",
    "print(L)\n",
    "\n",
    "## 3i \n",
    "my_list =[ i for i in first_dict.items()]\n",
    "elem1 = my_list[1]\n",
    "elem2 = my_list[2]\n",
    "my_list[2] = elem1\n",
    "my_list[1]=elem2\n",
    "first_dict=dict(my_list)\n",
    "print(first_dict)\n",
    "    \n",
    "# 4i\n",
    "my_list =[ i for i in first_dict.items()]\n",
    "my_list.insert(3,('Batterie','Lithium-ion'))\n",
    "first_dict = dict(my_list)\n",
    "\n",
    "# 5i\n",
    "my_list =[list(i)for i in first_dict.items()]\n",
    "print(my_list)\n"
   ]
  },
  {
   "cell_type": "code",
   "execution_count": 2,
   "id": "f4ae84ec-e6bb-4c66-8d45-fad4cc589399",
   "metadata": {},
   "outputs": [],
   "source": [
    "def creation_du_fichier(Liste):\n",
    "    ## on doit utuliser \"Context managers\" car il nous permet de faire tous les taches que l'on veut et il n'est pas requis d'utuliser file.close car c'est automatique\n",
    "    with open('text.txt','a') as file:\n",
    "        for i in Liste:\n",
    "            file.write(f'{i}\\n')\n",
    "\n",
    "    '''\n",
    "    file = open('text.txt','a')\n",
    "\n",
    "    for i in Liste:\n",
    "        file.write(f'{i}\\n')\n",
    "    file.close()\n",
    "    '''"
   ]
  },
  {
   "cell_type": "code",
   "execution_count": 3,
   "id": "944c61e7-e7bb-4f7c-b93a-d0b01322d7e6",
   "metadata": {},
   "outputs": [
    {
     "name": "stdin",
     "output_type": "stream",
     "text": [
      "donnez le nombre d'élement que vous voulez ajoutez 1\n",
      "Donnez la valeur que voulez ajoutez dans la liste HH\n"
     ]
    },
    {
     "name": "stdout",
     "output_type": "stream",
     "text": [
      "['HH']\n"
     ]
    }
   ],
   "source": [
    "Liste= []\n",
    "nombre = input(\"donnez le nombre d'élement que vous voulez ajoutez\")\n",
    "for i in range(0,int(nombre)):\n",
    "    s = input(\"Donnez la valeur que voulez ajoutez dans la liste\")\n",
    "    Liste.append(s)\n",
    "creation_du_fichier(Liste)\n",
    "print(Liste)"
   ]
  },
  {
   "cell_type": "code",
   "execution_count": 30,
   "id": "71d0ae0e-114d-4403-8adc-e021f17694a7",
   "metadata": {},
   "outputs": [
    {
     "data": {
      "text/plain": [
       "['h', ' ', 'r', 'd', 'c', 'm']"
      ]
     },
     "execution_count": 30,
     "metadata": {},
     "output_type": "execute_result"
    }
   ],
   "source": [
    "def f(S1,S2):\n",
    "    element= []\n",
    "    for char in S1:\n",
    "        if char not in S2:\n",
    "            element.append(char)\n",
    "    for char in S2:\n",
    "        if char not in S1:\n",
    "            element.append(char)\n",
    "    return element\n",
    "f(\"hello world\",\"welcome\")"
   ]
  },
  {
   "cell_type": "code",
   "execution_count": 34,
   "id": "4d5b7ca8-8a36-43d8-9e83-f7b1164d5eba",
   "metadata": {},
   "outputs": [
    {
     "name": "stdout",
     "output_type": "stream",
     "text": [
      "4\n",
      "11\n",
      "7\n",
      "10\n",
      "5\n",
      "9\n",
      "8\n"
     ]
    }
   ],
   "source": [
    "Notes = [12 ,4, 14 ,11 ,18,13,7,10,5,9,15,8,14,16]\n",
    "moy = sum(Notes)/len(Notes)\n",
    "for i in Notes:\n",
    "    if i<= moy:\n",
    "        print(i)"
   ]
  },
  {
   "cell_type": "code",
   "execution_count": 7,
   "id": "7395f2b5-8ef3-44c8-ba83-e0b2109ac3ba",
   "metadata": {},
   "outputs": [
    {
     "data": {
      "text/plain": [
       "True"
      ]
     },
     "execution_count": 7,
     "metadata": {},
     "output_type": "execute_result"
    }
   ],
   "source": [
    "\n",
    "def check(nbr):\n",
    "    somme = 0\n",
    "    Diviseurs = [i for i in range(1,nbr) if (nbr%i)==0]\n",
    "    if sum(Diviseurs)== nbr :\n",
    "        return True\n",
    "    else :\n",
    "        return False\n",
    "\n",
    "check(6)\n",
    "        "
   ]
  },
  {
   "cell_type": "code",
   "execution_count": 8,
   "id": "4534dd6b-29af-4d1f-b303-10a8844a5991",
   "metadata": {},
   "outputs": [
    {
     "data": {
      "text/plain": [
       "[0, 6, 28, 496, 8128]"
      ]
     },
     "execution_count": 8,
     "metadata": {},
     "output_type": "execute_result"
    }
   ],
   "source": [
    "def Lise(m):\n",
    "    Liste = [i for i in range(0,m,1) if check(i)]\n",
    "\n",
    "    return Liste\n",
    "Lise(10000)"
   ]
  },
  {
   "cell_type": "code",
   "execution_count": 3,
   "id": "87e2edae-4be7-491d-a7e3-c025acba9edf",
   "metadata": {},
   "outputs": [],
   "source": [
    "def Verify(n):\n",
    "    liste = [i for i in range(1,n) if (nbr%i)==0]\n",
    "    return liste"
   ]
  },
  {
   "cell_type": "markdown",
   "id": "b1a1198d-03ce-4d22-856c-b5da69cd1082",
   "metadata": {},
   "source": [
    "<h2 style='text-align:center;color:green'>Code works</h2>"
   ]
  },
  {
   "cell_type": "code",
   "execution_count": 20,
   "id": "9cafc945-c47f-41af-a6a4-7bbb3fb74026",
   "metadata": {},
   "outputs": [],
   "source": [
    "def ListVerify(listes): \n",
    "    Liste = [Lise(i) for i in listes ]\n",
    " \n",
    "    return Liste\n",
    "    "
   ]
  },
  {
   "cell_type": "code",
   "execution_count": 21,
   "id": "2c00731a-1f94-4e97-bdfa-0054930fd462",
   "metadata": {},
   "outputs": [
    {
     "data": {
      "text/plain": [
       "[[0], [0, 6, 28], [0, 6, 28], [0, 6, 28], [0, 6, 28, 496, 8128]]"
      ]
     },
     "execution_count": 21,
     "metadata": {},
     "output_type": "execute_result"
    }
   ],
   "source": [
    "ListVerify([1,39,30,299,200000])"
   ]
  },
  {
   "cell_type": "code",
   "execution_count": 22,
   "id": "585f46e9-465c-4daf-84e7-2bc8cbb23dd3",
   "metadata": {},
   "outputs": [
    {
     "name": "stdout",
     "output_type": "stream",
     "text": [
      "[0, 6, 28, 496]\n",
      "[[], [0], [0, 6], [0, 6, 28]]\n"
     ]
    }
   ],
   "source": [
    "def Liste(Valeur):\n",
    "    Liste = Lise(Valeur)\n",
    "    Val = [Lise(i) for i in Liste]\n",
    "    return Val\n",
    "print(Lise(1000))\n",
    "\n",
    "print(Liste(1000))"
   ]
  },
  {
   "cell_type": "code",
   "execution_count": 18,
   "id": "28bc5870-60c9-45a0-9dc8-7f73363d8f63",
   "metadata": {
    "scrolled": true
   },
   "outputs": [
    {
     "name": "stdout",
     "output_type": "stream",
     "text": [
      "Etudiant 0 a 4 réponses correctes sur 10.\n",
      "Les réponses corrects Etudiant 0: ['D', 'D', 'C', 'E']\n",
      "-------------------------------------------------------------\n",
      "Etudiant 1 a 4 réponses correctes sur 10.\n",
      "Les réponses corrects Etudiant 1: ['A', 'C', 'A', 'E']\n",
      "-------------------------------------------------------------\n",
      "Etudiant 2 a 1 réponses correctes sur 10.\n",
      "Les réponses corrects Etudiant 2: ['E']\n",
      "-------------------------------------------------------------\n",
      "Etudiant 3 a 1 réponses correctes sur 10.\n",
      "Les réponses corrects Etudiant 3: ['B']\n",
      "-------------------------------------------------------------\n",
      "Etudiant 4 a 3 réponses correctes sur 10.\n",
      "Les réponses corrects Etudiant 4: ['B', 'C', 'E']\n",
      "-------------------------------------------------------------\n",
      "Etudiant 5 a 2 réponses correctes sur 10.\n",
      "Les réponses corrects Etudiant 5: ['B', 'E']\n",
      "-------------------------------------------------------------\n",
      "Etudiant 6 a 1 réponses correctes sur 10.\n",
      "Les réponses corrects Etudiant 6: ['E']\n",
      "-------------------------------------------------------------\n",
      "Etudiant 7 a 1 réponses correctes sur 10.\n",
      "Les réponses corrects Etudiant 7: ['E']\n",
      "-------------------------------------------------------------\n",
      "Etudiant 8 a 0 réponses correctes sur 10.\n",
      "Les réponses corrects Etudiant 8: []\n",
      "-------------------------------------------------------------\n",
      "Etudiant 9 a 3 réponses correctes sur 10.\n",
      "Les réponses corrects Etudiant 9: ['C', 'A', 'E']\n",
      "-------------------------------------------------------------\n",
      "Etudiant 10 a 1 réponses correctes sur 10.\n",
      "Les réponses corrects Etudiant 10: ['A']\n",
      "-------------------------------------------------------------\n"
     ]
    },
    {
     "data": {
      "text/plain": [
       "[('Etudiant 0', 4),\n",
       " ('Etudiant 1', 4),\n",
       " ('Etudiant 2', 1),\n",
       " ('Etudiant 3', 1),\n",
       " ('Etudiant 4', 3),\n",
       " ('Etudiant 5', 2),\n",
       " ('Etudiant 6', 1),\n",
       " ('Etudiant 7', 1),\n",
       " ('Etudiant 8', 0),\n",
       " ('Etudiant 9', 3),\n",
       " ('Etudiant 10', 1)]"
      ]
     },
     "execution_count": 18,
     "metadata": {},
     "output_type": "execute_result"
    }
   ],
   "source": [
    " liste = [\n",
    "    [\"Etudiant 0\", \"Etudiant 1\", \"Etudiant 2\", \"Etudiant 3\", \"Etudiant 4\", \n",
    "    \"Etudiant 5\", \"Etudiant 6\", \"Etudiant 7\", \"Etudiant 8\", \"Etudiant 9\", \"Etudiant 10\"],\n",
    "    [[\"E\", \"D\", \"D\", \"A\", \"C\", \"B\", \"E\", \"E\", \"A\", \"D\"], \n",
    "     [\"A\", \"E\", \"C\", \"C\", \"E\", \"A\", \"E\", \"D\", \"D\", \"A\"], \n",
    "     [\"B\", \"C\", \"B\", \"B\", \"A\", \"E\", \"E\", \"D\", \"E\", \"D\"],\n",
    "     [\"C\", \"A\", \"E\", \"A\", \"A\", \"L\", \"B\", \"B\", \"E\", \"B\"], \n",
    "     [\"B\", \"C\", \"C\", \"A\", \"E\", \"B\", \"A\", \"B\", \"C\", \"E\"], \n",
    "     [\"D\", \"E\", \"C\", \"A\", \"E\", \"C\", \"C\", \"B\", \"A\", \"E\"],\n",
    "     [\"E\", \"A\", \"B\", \"B\", \"A\", \"C\", \"E\", \"A\", \"A\", \"B\"], \n",
    "     [\"E\", \"A\", \"B\", \"B\", \"A\", \"C\", \"E\", \"A\", \"A\", \"B\"], \n",
    "     [\"C\", \"E\", \"E\", \"A\", \"B\", \"C\", \"D\", \"D\", \"E\", \"A\"], \n",
    "     [\"D\", \"A\", \"C\", \"C\", \"B\", \"A\", \"B\", \"A\", \"E\", \"E\"], \n",
    "     [\"A\", \"C\", \"C\", \"B\", \"B\", \"E\", \"A\", \"E\", \"A\", \"B\"]]\n",
    "]\n",
    "\n",
    "réponses_correctes = [\"A\", \"D\", \"D\", \"C\", \"C\", \"A\", \"E\", \"B\", \"C\", \"E\"]\n",
    "\n",
    "def comparer(correct, réponses_étudiants):\n",
    "    etudiants =[]\n",
    "    for i, étudiant in enumerate(réponses_étudiants):\n",
    "        score = 0\n",
    "        correctes = []  \n",
    "        \n",
    "        for j, réponse in enumerate(étudiant):\n",
    "            if réponse == correct[j]:\n",
    "                score = score + 1\n",
    "                correctes.append(réponse)  \n",
    "            etudiant = (f\"Etudiant {i}\",score)\n",
    "        etudiants.append(etudiant)\n",
    "        print(f\"{liste[0][i]} a {score} réponses correctes sur {len(correct)}.\")\n",
    "        print(f\"Les réponses corrects {liste[0][i]}: {correctes}\")\n",
    "        print(\"-------------------------------------------------------------\")\n",
    "        \n",
    "    return etudiants\n",
    "comparer(réponses_correctes,liste[1])"
   ]
  },
  {
   "cell_type": "code",
   "execution_count": 16,
   "id": "bed074fb-276a-424b-9258-b43fd8fea4d1",
   "metadata": {},
   "outputs": [
    {
     "name": "stdout",
     "output_type": "stream",
     "text": [
      "Etudiant 0 a 4 réponses correctes sur 10.\n",
      "Les réponses corrects Etudiant 0: ['D', 'D', 'C', 'E']\n",
      "-------------------------------------------------------------\n",
      "Etudiant 1 a 4 réponses correctes sur 10.\n",
      "Les réponses corrects Etudiant 1: ['A', 'C', 'A', 'E']\n",
      "-------------------------------------------------------------\n",
      "Etudiant 2 a 1 réponses correctes sur 10.\n",
      "Les réponses corrects Etudiant 2: ['E']\n",
      "-------------------------------------------------------------\n",
      "Etudiant 3 a 1 réponses correctes sur 10.\n",
      "Les réponses corrects Etudiant 3: ['B']\n",
      "-------------------------------------------------------------\n",
      "Etudiant 4 a 3 réponses correctes sur 10.\n",
      "Les réponses corrects Etudiant 4: ['B', 'C', 'E']\n",
      "-------------------------------------------------------------\n",
      "Etudiant 5 a 2 réponses correctes sur 10.\n",
      "Les réponses corrects Etudiant 5: ['B', 'E']\n",
      "-------------------------------------------------------------\n",
      "Etudiant 6 a 1 réponses correctes sur 10.\n",
      "Les réponses corrects Etudiant 6: ['E']\n",
      "-------------------------------------------------------------\n",
      "Etudiant 7 a 1 réponses correctes sur 10.\n",
      "Les réponses corrects Etudiant 7: ['E']\n",
      "-------------------------------------------------------------\n",
      "Etudiant 8 a 0 réponses correctes sur 10.\n",
      "Les réponses corrects Etudiant 8: []\n",
      "-------------------------------------------------------------\n",
      "Etudiant 9 a 3 réponses correctes sur 10.\n",
      "Les réponses corrects Etudiant 9: ['C', 'A', 'E']\n",
      "-------------------------------------------------------------\n",
      "Etudiant 10 a 1 réponses correctes sur 10.\n",
      "Les réponses corrects Etudiant 10: ['A']\n",
      "-------------------------------------------------------------\n"
     ]
    },
    {
     "data": {
      "text/plain": [
       "{'Etudiant 8': 0,\n",
       " 'Etudiant 2': 1,\n",
       " 'Etudiant 3': 1,\n",
       " 'Etudiant 6': 1,\n",
       " 'Etudiant 7': 1,\n",
       " 'Etudiant 10': 1,\n",
       " 'Etudiant 5': 2,\n",
       " 'Etudiant 4': 3,\n",
       " 'Etudiant 9': 3,\n",
       " 'Etudiant 0': 4,\n",
       " 'Etudiant 1': 4}"
      ]
     },
     "execution_count": 16,
     "metadata": {},
     "output_type": "execute_result"
    }
   ],
   "source": [
    "def sort(correct,réponses):\n",
    "    l = dict(comparer(correct,réponses)).items()\n",
    "    r =  dict(sorted(l,key = lambda item:item[1]))\n",
    "    return r\n",
    "sort(réponses_correctes,liste[1])"
   ]
  },
  {
   "cell_type": "code",
   "execution_count": 389,
   "id": "a4ae37bc-7b7e-4bc0-afef-c035ae0f44b4",
   "metadata": {},
   "outputs": [],
   "source": [
    "def MAj(char):\n",
    "    count = 0\n",
    "    liste = [i for i in char if i.isupper()]\n",
    "    for i in liste:\n",
    "        count+=1\n",
    "    return count"
   ]
  },
  {
   "cell_type": "code",
   "execution_count": 197,
   "id": "c38acb40-0b9d-4518-a4e9-75c102d3f79d",
   "metadata": {},
   "outputs": [],
   "source": [
    "def lower(char):\n",
    "    count = 0\n",
    "    liste = [i for i in char if i.islower()]\n",
    "    for i in liste:\n",
    "        count+=1\n",
    "    return count"
   ]
  },
  {
   "cell_type": "code",
   "execution_count": 207,
   "id": "04087994-ef5b-4f16-badb-80b33eb5b5b4",
   "metadata": {},
   "outputs": [
    {
     "name": "stdout",
     "output_type": "stream",
     "text": [
      "Number of non-alphabetic characters: 2\n"
     ]
    }
   ],
   "source": [
    "def B4(text):\n",
    "  count = 0\n",
    "  for char in text:\n",
    "    if not char.isalpha():\n",
    "      count += 1\n",
    "  return count\n",
    "text = \"Bonjour le monde\"\n",
    "\n",
    "non_alphabetic_count = count_non_alphabetic_chars(text)\n",
    "print(f\"Number of non-alphabetic characters: {non_alphabetic_count}\")"
   ]
  },
  {
   "cell_type": "code",
   "execution_count": null,
   "id": "6c51c7e4-5f27-4f4b-abab-09a3fbc77a05",
   "metadata": {},
   "outputs": [],
   "source": []
  },
  {
   "cell_type": "code",
   "execution_count": 402,
   "id": "cb1d1f13-0b20-469f-88bd-4c128df1d574",
   "metadata": {},
   "outputs": [],
   "source": [
    "def P1(lettre):\n",
    "    counter = 0\n",
    "    clower= 0\n",
    "    liste =[]\n",
    "    for i in lettre  :\n",
    "        if i.isalpha():\n",
    "            if i.isupper():\n",
    "                counter = counter + 1\n",
    "            else: \n",
    "                liste.append(counter)\n",
    "                counter = 0\n",
    "                clower = clower+1\n",
    "            \n",
    "\n",
    "    if counter!=0:\n",
    "        liste.append(counter)\n",
    "        \n",
    "\n",
    "    return max(liste)"
   ]
  },
  {
   "cell_type": "code",
   "execution_count": 401,
   "id": "0ed5ce28-b83a-411b-be4a-9bf80b7aa7ed",
   "metadata": {},
   "outputs": [
    {
     "data": {
      "text/plain": [
       "8"
      ]
     },
     "execution_count": 401,
     "metadata": {},
     "output_type": "execute_result"
    }
   ],
   "source": [
    " P1(\"ZineAfiLLLLLLLK\")\n"
   ]
  },
  {
   "cell_type": "code",
   "execution_count": 346,
   "id": "e47a573e-9dc2-4779-9068-109b07aeccee",
   "metadata": {},
   "outputs": [],
   "source": [
    "def P2(lettre):\n",
    "    counter = 0\n",
    "    clower= 0\n",
    "    liste =[]\n",
    "    for i in lettre :\n",
    "        if i.islower():\n",
    "            counter = counter + 1\n",
    "        else: \n",
    "            liste.append(counter)\n",
    "            counter = 0\n",
    "            clower = clower+1\n",
    "    return max(liste)"
   ]
  },
  {
   "cell_type": "code",
   "execution_count": 347,
   "id": "ae6366a9-6c3c-4d89-9d2c-5b71fbbfdc35",
   "metadata": {},
   "outputs": [
    {
     "data": {
      "text/plain": [
       "4"
      ]
     },
     "execution_count": 347,
     "metadata": {},
     "output_type": "execute_result"
    }
   ],
   "source": [
    "P2(\"Hello worlD\")"
   ]
  },
  {
   "cell_type": "code",
   "execution_count": 348,
   "id": "c2e4fe6e-fc7c-411a-81df-4e603b964dd9",
   "metadata": {},
   "outputs": [],
   "source": [
    "def Score(lettre):\n",
    "    if len(lettre)< 5:\n",
    "        return \"Password is too short\"\n",
    "    else :\n",
    "        Score = 0\n",
    "        l_charactéres = len(lettre)\n",
    "        b1 = l_charactéres *4\n",
    "        b2 = (l_charactéres - MAj(lettre))*2\n",
    "        b3 = (l_charactéres - lower(lettre))*3\n",
    "        b4 = (B4(lettre))*5\n",
    "        \n",
    "        p1 = P1(lettre)*2\n",
    "        p2 = P2(lettre)*3\n",
    "        S = b1 + b2 + b3 + b4 + p1 + p2\n",
    "\n",
    "    return S"
   ]
  },
  {
   "cell_type": "code",
   "execution_count": 349,
   "id": "f807c6b0-00e3-4c68-ab45-47cd7f415003",
   "metadata": {},
   "outputs": [
    {
     "data": {
      "text/plain": [
       "144"
      ]
     },
     "execution_count": 349,
     "metadata": {},
     "output_type": "execute_result"
    }
   ],
   "source": [
    "Score(\"kbbubububKOKOKOKk\")"
   ]
  },
  {
   "cell_type": "code",
   "execution_count": null,
   "id": "0de9f622-d7a6-41aa-a1b7-d7fbb9238ac8",
   "metadata": {},
   "outputs": [],
   "source": []
  },
  {
   "cell_type": "code",
   "execution_count": null,
   "id": "b2c18292-c374-4075-975a-75c6d0a8f03d",
   "metadata": {},
   "outputs": [],
   "source": []
  }
 ],
 "metadata": {
  "kernelspec": {
   "display_name": "Python 3 (ipykernel)",
   "language": "python",
   "name": "python3"
  },
  "language_info": {
   "codemirror_mode": {
    "name": "ipython",
    "version": 3
   },
   "file_extension": ".py",
   "mimetype": "text/x-python",
   "name": "python",
   "nbconvert_exporter": "python",
   "pygments_lexer": "ipython3",
   "version": "3.10.11"
  }
 },
 "nbformat": 4,
 "nbformat_minor": 5
}
