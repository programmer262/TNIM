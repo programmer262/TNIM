{
 "cells": [
  {
   "cell_type": "markdown",
   "id": "36a864a7-987b-4b2e-b23e-0a8e40ee25dc",
   "metadata": {},
   "source": [
    "<h1 style=\"font-size:50px;font-family:'Montserrat','Roboto',sans-serif;text-align:center;color:red; \">Traitement d'image using Pillow</h1>"
   ]
  },
  {
   "cell_type": "markdown",
   "id": "3b06a098-ad57-4bea-9f61-2ac3b39cec42",
   "metadata": {},
   "source": [
    "\n",
    "<h3 style=\"color:green\">I - Manipulation d'images</h3>"
   ]
  },
  {
   "cell_type": "markdown",
   "id": "cc7c5b2f-b1ba-40d9-9616-42d30a636825",
   "metadata": {},
   "source": [
    "1 - écrire une fonction qui ouvre un fichier image , informe sur ses détails \"Format , size et mode\" retourne les données"
   ]
  },
  {
   "cell_type": "code",
   "execution_count": null,
   "id": "745acc73-81c5-4f57-8907-1a1cb3573f69",
   "metadata": {
    "editable": true,
    "slideshow": {
     "slide_type": ""
    },
    "tags": []
   },
   "outputs": [],
   "source": [
    "from PIL import Image as im,ImageOps as imops\n",
    "import numpy as np \n",
    "from matplotlib import pyplot as plt \n",
    "import os , sys\n",
    "from tkinter.filedialog import askopenfilename as file_path\n",
    "import imshowpair\n",
    "import skimage as ski\n",
    "from skimage import data\n",
    "from skimage.morphology import square\n",
    "from skimage.filters.rank import maximum\n",
    "from skimage.filters import rank,gaussian\n",
    "import numpy as np"
   ]
  },
  {
   "cell_type": "code",
   "execution_count": null,
   "id": "6de55903-a8e9-42c5-8d44-cf09769b63fa",
   "metadata": {},
   "outputs": [],
   "source": [
    "def open_file():\n",
    "    path = file_path(title=\"Séléctionnez votre image\")\n",
    "    return path"
   ]
  },
  {
   "cell_type": "code",
   "execution_count": null,
   "id": "2d5c5f6d-befd-43b6-ba07-026cf92a429d",
   "metadata": {},
   "outputs": [],
   "source": [
    "#print(os.getcwd()+\"JPEG/Image/alberta.jpeg\")"
   ]
  },
  {
   "cell_type": "code",
   "execution_count": null,
   "id": "5320d6e6-8b5c-40d0-8536-154e338c1e98",
   "metadata": {},
   "outputs": [],
   "source": [
    "def Image_info():\n",
    "    path = open_file()\n",
    "    image = im.open(path)\n",
    "    width,height = image.size\n",
    "    form= image.format\n",
    "    filename= image.filename\n",
    "    mode = image.mode\n",
    "    data = {\n",
    "    'largeur':f'{width}px',\n",
    "    'longueur':f'{height}px',\n",
    "    'format':f'{form}',\n",
    "    'nom du fichier':f'{filename}',\n",
    "    'mode':f'{mode}'\n",
    "    }\n",
    "    return data ,image"
   ]
  },
  {
   "cell_type": "code",
   "execution_count": null,
   "id": "911e4400-a879-4690-8092-baae1be75d84",
   "metadata": {},
   "outputs": [],
   "source": [
    "Image_info()"
   ]
  },
  {
   "cell_type": "code",
   "execution_count": null,
   "id": "d7052f22-b4c6-4668-979a-2181383ae725",
   "metadata": {},
   "outputs": [],
   "source": [
    "def save_image(forma):\n",
    "    path = open_file()\n",
    "    image = im.open(path)\n",
    "    image_output = image.save(f'output_image.{forma}',optimize=True)\n",
    "    return image_output"
   ]
  },
  {
   "cell_type": "code",
   "execution_count": null,
   "id": "d7128dfa-b28f-4d92-aab2-53d0150e3d3f",
   "metadata": {},
   "outputs": [],
   "source": [
    "save_image('png')"
   ]
  },
  {
   "cell_type": "code",
   "execution_count": null,
   "id": "ffb6f823-fc48-4270-b968-896f49caddac",
   "metadata": {},
   "outputs": [],
   "source": [
    "def resize(width:int,height:int):\n",
    "    path = open_file()\n",
    "    image = im.open(path)\n",
    "\n",
    "    image.resize((width,height))\n",
    "    return image"
   ]
  },
  {
   "cell_type": "code",
   "execution_count": null,
   "id": "4400dabf-2047-450e-8eb3-517f1c3a9e14",
   "metadata": {},
   "outputs": [],
   "source": [
    "x = resize(1024,1024)"
   ]
  },
  {
   "cell_type": "code",
   "execution_count": null,
   "id": "1f63a95d-d36d-4184-a486-f8bad059ba06",
   "metadata": {},
   "outputs": [],
   "source": [
    "x.show()\n"
   ]
  },
  {
   "cell_type": "markdown",
   "id": "690c983d-ef6f-4fc8-84c6-c9d256959d85",
   "metadata": {},
   "source": [
    "#### Changer les couleurs d'une images "
   ]
  },
  {
   "cell_type": "markdown",
   "id": "8b13ed8a-27e2-4bd5-a26d-9cc122f31483",
   "metadata": {},
   "source": [
    "5 - Conversion du couleur original au 2 autres couleurs:<br>\n",
    "b-Oui on observe qu'il ya des diminution de taille pour noir et blanc et niveau de gris ms par rapport au couleur indexée il n'ya pas un grand changement au niveau de la taille"
   ]
  },
  {
   "cell_type": "code",
   "execution_count": null,
   "id": "3417af76-2467-451c-ab56-6b5ab3e509c7",
   "metadata": {},
   "outputs": [],
   "source": [
    "def niveau_de_gris(fichier):\n",
    "    blanc_et_noir_image= fichier.convert('L')\n",
    "    blanc_et_noir_image.save(f'niveau_de_gris_convertit.jpeg')\n",
    "    return blanc_et_noir_image"
   ]
  },
  {
   "cell_type": "code",
   "execution_count": null,
   "id": "81f33a9c-5af9-4675-9e2d-1ea74e22d0f8",
   "metadata": {},
   "outputs": [],
   "source": [
    "def Palette(fichier):\n",
    "    blanc_et_noir_image= fichier.convert('P')\n",
    "    blanc_et_noir_image.save(f'niveau_de_gris_convertit.png')\n",
    "    return blanc_et_noir_image"
   ]
  },
  {
   "cell_type": "code",
   "execution_count": null,
   "id": "11e24c4d-9736-4984-8090-69aeb2248b73",
   "metadata": {},
   "outputs": [],
   "source": [
    "def blanc_et_noir(fichier):\n",
    "    couleur_indexée= fichier.convert('1',dither=0)\n",
    "    couleur_indexée.save(f'blanc_et_noir.jpeg')\n",
    "    return couleur_indexée"
   ]
  },
  {
   "cell_type": "code",
   "execution_count": null,
   "id": "9c483c34-12aa-4553-8344-def9f194417c",
   "metadata": {},
   "outputs": [],
   "source": [
    "def vraitoothers():\n",
    "    path = open_file()\n",
    "    image = im.open(path)\n",
    "    if image.mode=='RGB':\n",
    "        liste = [niveau_de_gris(image), Palette(image),blanc_et_noir(image)]\n",
    "        return liste\n",
    "             \n",
    "    if image.mode=='P':\n",
    "        liste = [niveau_de_gris(image),blanc_et_noir(image)]\n",
    "        return liste\n",
    "\n",
    "    if image.mode=='L':\n",
    "        liste = blanc_et_noir(image)\n",
    "        return liste\n",
    "\n"
   ]
  },
  {
   "cell_type": "code",
   "execution_count": null,
   "id": "3d40eeff-b87b-49bd-beac-128de5b59571",
   "metadata": {},
   "outputs": [],
   "source": [
    "x= vraitoothers()"
   ]
  },
  {
   "cell_type": "code",
   "execution_count": null,
   "id": "e6b9701b-b03e-4c90-bea5-9d23b2f22f6e",
   "metadata": {},
   "outputs": [],
   "source": [
    "x[0]"
   ]
  },
  {
   "cell_type": "code",
   "execution_count": null,
   "id": "593cffd2-43b2-48f6-b52e-7a2a09553f30",
   "metadata": {},
   "outputs": [],
   "source": [
    "x[1]"
   ]
  },
  {
   "cell_type": "code",
   "execution_count": null,
   "id": "20227f13-f170-45e1-89d2-cf345d8500a5",
   "metadata": {},
   "outputs": [],
   "source": [
    "x[2]"
   ]
  },
  {
   "cell_type": "markdown",
   "id": "2349fabf-0b93-4e81-903e-d5b37428c9e9",
   "metadata": {},
   "source": [
    "6-"
   ]
  },
  {
   "cell_type": "markdown",
   "id": "d2dc2724-dec8-406d-8817-d1404c70479a",
   "metadata": {},
   "source": [
    "#### Imagette et effets géométriques\n",
    "Rotation d'une image et effets mirroire de left à right et top à bottom"
   ]
  },
  {
   "cell_type": "code",
   "execution_count": null,
   "id": "e7030206-fb4a-4875-820e-1ed4f5cbd73c",
   "metadata": {},
   "outputs": [],
   "source": [
    "def Recadrage_du_photo(coords):\n",
    "    path = open_file()\n",
    "    image = im.open(path)\n",
    "    output_image = image.crop(coords)\n",
    "    output_image.save('photo_recadré.png')\n",
    "    return output_image"
   ]
  },
  {
   "cell_type": "code",
   "execution_count": null,
   "id": "c05e2cfc-29f5-4f47-a29c-18efa70a8a61",
   "metadata": {},
   "outputs": [],
   "source": [
    "Recadrage_du_photo((16,16,299,299    ))"
   ]
  },
  {
   "cell_type": "code",
   "execution_count": null,
   "id": "cce8e826-0f94-4631-9f9e-297febf06fae",
   "metadata": {},
   "outputs": [],
   "source": [
    "def Rotation_dimage(degrees):\n",
    "    path = open_file()\n",
    "    image = im.open(path)\n",
    "    output_image = image.rotate(degrees)\n",
    "    output_image.save('rotation du photo.png')\n",
    "    return output_image"
   ]
  },
  {
   "cell_type": "code",
   "execution_count": null,
   "id": "c1732630-9c98-4eac-8488-b3a554a8f172",
   "metadata": {},
   "outputs": [],
   "source": [
    "Rotation_dimage(90)"
   ]
  },
  {
   "cell_type": "code",
   "execution_count": null,
   "id": "9d87813d-f3e3-4da7-98a9-59027b0f04c3",
   "metadata": {},
   "outputs": [],
   "source": [
    "#number spécifie le type d'effet mirroire\n",
    "def effet_mirroire(number):\n",
    "    path = open_file()\n",
    "    image = im.open(path)\n",
    "    if number==1:\n",
    "        output_image = image.transpose(im.FLIP_LEFT_RIGHT)\n",
    "    if number ==2:\n",
    "        output_image = image.transpose(im.FLIP_TOP_BOTTOM)\n",
    "    if number == 3:\n",
    "        output_image = image.transpose(im.FLIP_LEFT_RIGHT).transpose(im.FLIP_TOP_BOTTOM)\n",
    "\n",
    "    output_image.save('mirroire du photo.png')\n",
    "    return output_image,image"
   ]
  },
  {
   "cell_type": "code",
   "execution_count": null,
   "id": "9250c501-665e-41bb-80be-0928f5e7d0c5",
   "metadata": {},
   "outputs": [],
   "source": []
  },
  {
   "cell_type": "code",
   "execution_count": null,
   "id": "f1819330-c07e-40a1-8ba5-863779babf96",
   "metadata": {},
   "outputs": [],
   "source": [
    "x=effet_mirroire(3)"
   ]
  },
  {
   "cell_type": "code",
   "execution_count": null,
   "id": "7c9dc986-c0de-44b1-bdaa-3f54a8be0990",
   "metadata": {},
   "outputs": [],
   "source": [
    "x[0]\n",
    "\n"
   ]
  },
  {
   "cell_type": "code",
   "execution_count": null,
   "id": "0eaa9419-295c-4aa9-b8a5-ccafd01afdf5",
   "metadata": {},
   "outputs": [],
   "source": [
    "x[1]"
   ]
  },
  {
   "cell_type": "markdown",
   "id": "a2161734-8e3a-4e8e-87fa-01484dd1d185",
   "metadata": {},
   "source": [
    "#### Séparation des différentes canaux :"
   ]
  },
  {
   "cell_type": "markdown",
   "id": "5b189712-52cf-4f6b-baa5-084132625eb4",
   "metadata": {},
   "source": [
    "- on ouvre l'image en utulisant im.open(en spécifiant le chemin comme paramétre)\n",
    "- np.asarray(objet image comme paramétre) convertit notre image en un tableau en utulisant numpy\n",
    "- red = img.copy() nous donne une copie du array qu'on vas travailler avec\n",
    "- red[:,:,(1,2)] = 0 remplit les tableaux du vert et bleu  en des 0 pour afficher juste le rouge\n",
    "- méme méthode avec green et blue\n",
    "- rgb = np.concatenate() fais la somme en additionnant les élément dans notre array comment ?\n",
    "- par exemple on a 2 tableaux de méme dimensions premier est [1 2 23] [23 49 39] et deuxiéme est [30 49 10 ] [06 80 90]\n",
    "  le resultat aprés utulisation np.concatenate doit étre [ [1 2 23 ] [23 49 39] [30 49 10] [06 80 90] ]\n",
    "  et np.concatenate a 2 variable les tableaux dans un tuple et axis ,\n",
    "  axis représente les dimensions du tableau créer par numpy si 0 c'est 1D si 1 c'est 2D si 2 c'est 3D\n",
    "- im.fromarray() est l'inverse de np.asarray() car il convertit l'image d'un tableau à une objet image qu'on peut le visualiser si on fait appel à la fonction im.show()\n",
    "- im dans mon code est Image de pillow j'ai l'importé comme ceci "
   ]
  },
  {
   "cell_type": "code",
   "execution_count": null,
   "id": "88868e92-de03-4d94-a7dd-2baa2ebc3afb",
   "metadata": {},
   "outputs": [],
   "source": [
    "def RGB():\n",
    "    path = open_file()\n",
    "    image = im.open(path)\n",
    "    img = np.asarray(image)\n",
    "    red=img.copy()\n",
    "    red[:,:,(1,2)]=0\n",
    " \n",
    "    green=img.copy()\n",
    "    green[:,:,(0,2)]=0\n",
    "    blue=img.copy()\n",
    "    blue[:,:,(0,1)]=0\n",
    " \n",
    "    rgb=np.concatenate((red,green,blue),axis=1)\n",
    "    output=im.fromarray(rgb)\n",
    "    return output"
   ]
  },
  {
   "cell_type": "code",
   "execution_count": null,
   "id": "6f3ab8ce-5a1d-4f83-86fd-bfe51acf8fe7",
   "metadata": {
    "scrolled": true
   },
   "outputs": [],
   "source": [
    "RGB()"
   ]
  },
  {
   "cell_type": "code",
   "execution_count": null,
   "id": "98f9420f-754d-4862-9f96-d750c38475cb",
   "metadata": {},
   "outputs": [],
   "source": [
    "def imagette(width:int,height:int):\n",
    "    path = open_file()\n",
    "    image = im.open(path)\n",
    "\n",
    "    imops.fit(image,(width,height)).save(\"imageops_fit.jpeg\")\n",
    "    return image"
   ]
  },
  {
   "cell_type": "markdown",
   "id": "19cc3ba9-bfa7-4902-bcda-9022cfef8da4",
   "metadata": {},
   "source": [
    "9 -"
   ]
  },
  {
   "cell_type": "markdown",
   "id": "a048fb62-95d4-431d-9822-10ac6528b368",
   "metadata": {},
   "source": [
    "- Je vais skipper quelques étapes puisque je l'ai déja explique\n",
    "- pour image1.size il nous donne an output sous forme tuple cette output contient width (largeur) et height (hauteur)\n",
    "- listes_of_images est une liste qui stocke les différentes images générer de notre équation:\n",
    "  C(i,j) = (t-1) A(i,j) + B(i,j) * t -> avec t est une variable qui varie entre 0 et 1\n",
    "- les conditions que j'ai mis est pour savoir la taille de chaque image qu'on doit faire cette transition avec et l'adapté pour que les deux images doivent avour la méme taille\n",
    "- Aprés on va convertir les deux images sous formes des tableaux\n",
    "- et on va faire une boucle qui va aller de 0 à 1 et qui a un pas de 0.1 pour que chaque fois la valeur de t va changer de 0.1\n",
    "- aprés le calcul qu'on va faire d'aprés la relation donnée dans l'exercice on va stocker chaque images générer d'aprés la relation dans notre liste \"listes of images\"\n",
    "- on va enregistrer le resultat sous format gif et on vas spécifier que notre image enregistrer doit enregistrer chaque séquence qu'on va passer comme paramétre en utulisant  <code style=\"color:grey\">save_all=<span style=\"color:green\">True</span></code> et on va donnez notre liste comme paramétre en spécifiant que tu doit parcourir notre liste de début à la fin et enregistrer chaque séquence d'image dans notre fichier gif <code style=\"color:grey\">append_images=list_of_images</code>"
   ]
  },
  {
   "cell_type": "code",
   "execution_count": null,
   "id": "ecc9c292-1db7-45a6-86c4-fc2d1c043e76",
   "metadata": {},
   "outputs": [],
   "source": [
    "def transition():\n",
    "    path= open_file()\n",
    "    path2 = open_file()\n",
    "    image1 = im.open(path)    \n",
    "    image2 = im.open(path2)\n",
    "    width1 , height1 = image1.size\n",
    "    width2 , height2 = image2.size\n",
    "    list_of_images = []\n",
    "    #compare les dimensions des deux fichier en utulisant width and lheight of the images\n",
    "    if (width1, height1) != (width2, height2):\n",
    "        if width1 * height1 > width2 * height2:\n",
    "            image1 = image1.resize((width2, height2))\n",
    "            image_output= im.new('RGB',(width2,height2),color=\"white\")\n",
    "            print(image1.size)\n",
    "            print(image2.size)\n",
    "\n",
    "        elif width2*height2 > width1 * height1:\n",
    "            image2= image2.resize((width1, height1))\n",
    "            image_output= im.new('RGB',(width1,height1),color=\"black\")\n",
    "            print(image2.size)\n",
    "            print(image1.size)\n",
    "    #convertit les 2 images en un array pour le manipuler\n",
    "    rgb1_array = np.asarray(image1) \n",
    "    rgb2_array = np.asarray(image2)\n",
    "    print(rgb1_array.ndim)\n",
    "    #boucle pour changer t de 0 à 1 en ajoutant chaque fois 0.1 uint8 just pour dir que each pixel est codé sous format entre 0 et 255 car \n",
    "    # int8 donne les valeur numérique de -127 à 128 pour éliminer les nombres négatifs \n",
    "    debut = 0.0\n",
    "    fin = 1.0\n",
    "    pas = 0.1\n",
    "\n",
    "    t= debut\n",
    "    while t <= fin:\n",
    "        C = ( rgb1_array *(1-t) + t * rgb2_array).astype('uint8')\n",
    "        output = im.fromarray(C.astype('uint8'))\n",
    "        list_of_images.append(output)\n",
    "        t += pas\n",
    "    image_output.save('output.gif',save_all=True,append_images=list_of_images)\n",
    "    return image_output\n"
   ]
  },
  {
   "cell_type": "code",
   "execution_count": null,
   "id": "c011ce3a-a8bc-413a-aa1c-0d30d36493cd",
   "metadata": {},
   "outputs": [],
   "source": []
  },
  {
   "cell_type": "markdown",
   "id": "e9b4792d-a358-4949-8350-8169fb1ba3ab",
   "metadata": {},
   "source": [
    " 10 - "
   ]
  },
  {
   "cell_type": "markdown",
   "id": "cea84a1e-e361-48aa-8faa-09192eaad2cf",
   "metadata": {},
   "source": [
    "#### afficher les images cote à cote en utulisant imshowpair\n",
    "- on donne les deux images comme paramétre de type: objet image\n",
    "- et on utulise notre <code style=\"color:grey\">imshowpair.imshowpair(image1, image2)</code> pour afficher les deux images cote à cote "
   ]
  },
  {
   "cell_type": "code",
   "execution_count": null,
   "id": "0fc48fab-5780-41af-8723-b537aa0a0366",
   "metadata": {},
   "outputs": [],
   "source": [
    "import imshowpair\n",
    "def pairtopairimage(image1,image2):\n",
    "    return imshowpair.imshowpair(image1, image2,show_all=False)"
   ]
  },
  {
   "cell_type": "code",
   "execution_count": null,
   "id": "082e9c84-6082-440e-be3a-413dfb3f5216",
   "metadata": {},
   "outputs": [],
   "source": []
  },
  {
   "cell_type": "markdown",
   "id": "82958a37-2651-4589-b44c-c08c9d10ba52",
   "metadata": {},
   "source": [
    "## Exercice2"
   ]
  },
  {
   "cell_type": "markdown",
   "id": "7ec74c35-43e5-4374-bced-4de6781e7cbe",
   "metadata": {},
   "source": [
    "#### 1- \n",
    "afficher un histogramme \n",
    "- on ouvre l'image et le convertit en un tableau comme on a fait dans les questions précedentes et on sépare les cannaux et on applatit chaque cannal en utulisant <code style=\"color:grey\">.ravel()</code>ou <code style=\"color:grey\">.flatten()</code> et en utulisant plt.hist() qui nous permet de dresser un histogramme et en utulisant <code>bins=range(256)</code> nous permet de faire un intervalle qui est entre 0 et 255 et on donne la couleur de chaque histogramme pour savoir la différence des valeurs de chaque histogramme"
   ]
  },
  {
   "cell_type": "code",
   "execution_count": null,
   "id": "3c618aeb-9ff6-406a-813f-cdc2b370aee7",
   "metadata": {},
   "outputs": [],
   "source": [
    "def histogramme_image(image):\n",
    "    img = np.asarray(image)\n",
    "    if image.mode == 'RGB':\n",
    "        red = img[:,:,0].ravel()\n",
    "        plt.hist(red,bins=range(256), color=\"red\")\n",
    "        plt.hist(img[:,:,1].ravel(),bins=range(256), color=\"green\")\n",
    "        plt.hist(img[:,:,2].ravel(),bins=range(256), color=\"blue\")\n",
    "    else:\n",
    "        plt.hist(img.ravel(),bins=range(256))"
   ]
  },
  {
   "cell_type": "code",
   "execution_count": null,
   "id": "0f81b3b1-7fda-467c-868d-1d556545070c",
   "metadata": {},
   "outputs": [],
   "source": [
    "path = open_file()\n",
    "Image = im.open(path)\n",
    "histogramme_image(Image)"
   ]
  },
  {
   "cell_type": "code",
   "execution_count": null,
   "id": "1ec115a0-127f-4d2b-932e-9880dd618c39",
   "metadata": {},
   "outputs": [],
   "source": [
    "'''\n",
    "def histogramme_cummulé_image():\n",
    "    path = open_file()\n",
    "    image = im.open(path)\n",
    "    image2 = niveau_de_gris(image)\n",
    "    img = np.asarray(image2)\n",
    "    # créé l array et le rend sous forme vecteur\n",
    "    gris = img.flatten()\n",
    "    # \n",
    "    H,interval,_ = plt.hist(gris,bins=range(256), color=\"grey\")\n",
    "    \n",
    "    Hc = 1/(image2.width*image2.height) * np.cumsum(H)\n",
    "\n",
    "    print(Hc)\n",
    "'''\n",
    "def histogramme_cummulé_image():\n",
    "    path = open_file()\n",
    "    image = im.open(path)\n",
    "    #image2 = niveau_de_gris(image)\n",
    "    img = np.asarray(image)\n",
    "    width , height = image.size\n",
    "\n",
    "    red = img[:,:,0]\n",
    "    green = img[:,:,1]\n",
    "    blue = img[:,:,2]\n",
    "    # créé l array et le rend sous forme vecteur\n",
    "    #gris = img.flatten()\n",
    "\n",
    "    red_cum = (np.cumsum(red))/width*height\n",
    "    green_cum = (np.cumsum(green))/width*height\n",
    "    blue_cum = (np.cumsum(blue))/width*height\n",
    "    plt.plot(red_cum,color=\"red\")\n",
    "\n",
    "    plt.plot(green_cum,color=\"green\")\n",
    "    plt.plot(blue_cum,color=\"blue\")\n",
    "    \n"
   ]
  },
  {
   "cell_type": "code",
   "execution_count": null,
   "id": "81b7fb25-cb1c-47d5-9323-7916a9827c48",
   "metadata": {},
   "outputs": [],
   "source": [
    "histogramme_cummulé_image()"
   ]
  },
  {
   "cell_type": "markdown",
   "id": "351a7211-dd0d-4849-aa5b-b9818e7b32cd",
   "metadata": {},
   "source": [
    "#### Dyamique d'une image"
   ]
  },
  {
   "cell_type": "code",
   "execution_count": null,
   "id": "a7f3a2d7-af17-4364-b2b7-33afdea2d971",
   "metadata": {},
   "outputs": [],
   "source": [
    "def dynamique():\n",
    "    path = open_file()\n",
    "    image = im.open(path)\n",
    "    width,height = image.size\n",
    "    array = np.asarray(image)\n",
    "    if image.mode==\"RGB\":\n",
    "        red = array[:,:,0]\n",
    "        blue = array[:,:,2]\n",
    "        green = array[:,:,1]\n",
    "        max_red = np.max(red)\n",
    "        min_red = np.min(red)\n",
    "        I2_red= (red - min_red) * (255/max_red-min_red)\n",
    "        max_green = np.max(green)\n",
    "        min_green = np.min(green)\n",
    "        I2_green= (green-min_green)*(255/max_green-min_green)\n",
    "        max_blue = np.max(blue)\n",
    "        min_blue = np.min(blue)\n",
    "        I2_blue=(blue-min_blue)*(255/max_blue-min_blue)\n",
    "        I2_blue=(np.clip(I2_blue,0,255)).astype(\"uint8\")\n",
    "        I2_red=(np.clip(I2_red,0,255)).astype(\"uint8\")\n",
    "        I2_green=(np.clip(I2_green,0,255)).astype(\"uint8\")\n",
    "        red_image =im.fromarray((I2_red*255).astype(\"uint8\"))\n",
    "        green_image =im.fromarray((I2_green*255).astype(\"uint8\"))\n",
    "        blue_image =im.fromarray((I2_blue*255).astype(\"uint8\"))\n",
    "        rgb_array = np.stack((I2_red, I2_green, I2_blue), axis=2)\n",
    "        image_output = im.fromarray(rgb_array)\n",
    "    else :\n",
    "        Nmax = np.max(array)\n",
    "        Nmin = np.min(array)\n",
    "        I2= (array-Nmin)*(255/(Nmax-Nmin))\n",
    "        I2=(np.clip(I2,0,255)).astype(\"uint8\")\n",
    "        image_output =im.fromarray(I2)\n",
    "    image_output.save('image_output_dynamique.jpeg')\n",
    "    return image_output"
   ]
  },
  {
   "cell_type": "code",
   "execution_count": null,
   "id": "909f8c95-b3e1-4d8c-94cc-16f242ddff16",
   "metadata": {},
   "outputs": [],
   "source": [
    "path = open_file()\n",
    "image = im.open(path)\n",
    "histogramme_image(image)\n"
   ]
  },
  {
   "cell_type": "code",
   "execution_count": null,
   "id": "215292fa-79a9-4548-8288-256b9a78b20f",
   "metadata": {},
   "outputs": [],
   "source": [
    "histogramme_image(dynamique())\n",
    "dynamique()\n"
   ]
  },
  {
   "cell_type": "code",
   "execution_count": null,
   "id": "e20a5d63-954b-4e41-be45-ad31102a0e23",
   "metadata": {},
   "outputs": [],
   "source": [
    "image.show()\n",
    "x.show()"
   ]
  },
  {
   "cell_type": "code",
   "execution_count": null,
   "id": "55b689a8-9444-440b-a5e5-c8eee5b65e48",
   "metadata": {},
   "outputs": [],
   "source": [
    "def contraste():\n",
    "    path = open_file()\n",
    "    image = im.open(path)\n",
    "    array2 = np.asarray(image)\n",
    "    array = array2.copy()\n",
    "    if image.mode=='L' or image.mode=='P':\n",
    "        max_gris=np.max(array)\n",
    "        min_gris = np.min(array)\n",
    "        Cr_gris = (max_gris - min_gris) / (max_gris + min_gris)\n",
    "        contrastez = (array-min_gris)*Cr_gris\n",
    "        image_output = im.fromarray(contrastez.astype(\"uint8\"))\n",
    "        image_output.save('image_output_contrast.png')\n",
    "    else:\n",
    "        red = array[:,:,0]\n",
    "        blue = array[:,:,2]\n",
    "        green = array[:,:,1]\n",
    "        max_red = np.max(red)\n",
    "        min_red = np.min(red)\n",
    "        max_green = np.max(green)\n",
    "        min_green = np.min(green)\n",
    "        max_blue = np.max(blue)\n",
    "        min_blue = np.min(blue)\n",
    "        Cr_red = (max_red - min_red) / (max_red + min_red)\n",
    "        Cr_blue = (max_blue - min_blue) / (max_blue + min_blue)\n",
    "        Cr_green = (max_green - min_green) / (max_green + min_green)\n",
    "        contraste_rouge = (red-min_red)*Cr_red\n",
    "        contraste_vert = (green-min_green)*Cr_green\n",
    "        contraste_blue = (blue-min_blue)*Cr_blue\n",
    "        constrastez = np.stack((contraste_rouge, contraste_vert, contraste_blue), axis=2)\n",
    "    \n",
    "        image_output = im.fromarray(constrastez.astype(\"uint8\"))\n",
    "        image_output.save('image_output_contrast.png')\n",
    "    return [image,image_output]"
   ]
  },
  {
   "cell_type": "code",
   "execution_count": null,
   "id": "ae21d0ce-a295-4721-b7b6-5e1576dc9761",
   "metadata": {},
   "outputs": [],
   "source": [
    "x = contraste()\n"
   ]
  },
  {
   "cell_type": "code",
   "execution_count": null,
   "id": "542fe523-e1e1-42df-b1f3-f65d298c8d78",
   "metadata": {},
   "outputs": [],
   "source": [
    "x[0]"
   ]
  },
  {
   "cell_type": "code",
   "execution_count": null,
   "id": "c48c9462-4d11-469b-ac34-d167e29bad3d",
   "metadata": {},
   "outputs": [],
   "source": [
    "x[1]"
   ]
  },
  {
   "cell_type": "code",
   "execution_count": null,
   "id": "6412906c-1a99-4550-9766-413e944b49f6",
   "metadata": {},
   "outputs": [],
   "source": [
    "# image1 and image2 should be an image object for the function to work and both images should be the same size:\n",
    "import math\n",
    "def évaluation_de_qualité(image_original,image_traité):\n",
    "    width,height = image_original.size    \n",
    "    image_array = np.asarray(image_original)\n",
    "    image_traité_array = np.asarray(image_traité)\n",
    "    calcul =image_array - image_traité_array\n",
    "    difference = np.power( calcul,2)\n",
    "    x = difference.sum()\n",
    "    MSE = x /(width*height)\n",
    "    Iij_au_carré = np.power(image_array,2)\n",
    "    V = Iij_au_carré.sum()/(width*height)\n",
    "    valeur_maximal = np.max(image_array)\n",
    "    SNR = 10* math.log10(V/MSE)\n",
    "    \n",
    "    PSNR = 10* math.log10(math.pow(valeur_maximal,2)/MSE)\n",
    "\n",
    "\n",
    "    dictionnaire={\n",
    "        'MSE':float(MSE),\n",
    "        'V':float(V),\n",
    "        'SNR':float(SNR),\n",
    "        'PSNR':float(PSNR),\n",
    "    }\n",
    "    return dictionnaire"
   ]
  },
  {
   "cell_type": "code",
   "execution_count": null,
   "id": "4504f06e-b95a-4768-996e-315d4c03bf63",
   "metadata": {},
   "outputs": [],
   "source": [
    "évaluation_de_qualité(x[0],x[1])"
   ]
  },
  {
   "cell_type": "markdown",
   "id": "7f14ad5a-7aa7-41f7-9726-c1e81f77bd59",
   "metadata": {},
   "source": [
    "<h1 style=\"text-align:center;font-size:40px;color:red;\">TP3</h1>"
   ]
  },
  {
   "cell_type": "markdown",
   "id": "11ecc160-0b28-41ab-9994-3c5f233d1e00",
   "metadata": {},
   "source": [
    "\n",
    "<h2 style=\"text-align:center;\">Opération de filtrage</h2>"
   ]
  },
  {
   "cell_type": "markdown",
   "id": "0bb5abc9-e9a6-4fc5-b697-0606f32116db",
   "metadata": {},
   "source": [
    "<h3 style=\"text-align:center\">Question 1</h3>\n"
   ]
  },
  {
   "cell_type": "markdown",
   "id": "f2f08864-777b-4e7a-a9ab-c200658c3529",
   "metadata": {},
   "source": [
    "<p>\n",
    "    Bruitage de l'image on utulise random_noise spécifié dans notre TP et les paramétres sont la matrice de l'image comme paramétre et mode qui spécifie le type du bruit si il s'agit d'un bruit additif ,ou impulsionnel(multiplicatif),etc....\n",
    "</p>\n",
    "<ol>\n",
    "    <li>\n",
    "        Gaussian\n",
    "    </li>\n",
    "    <li>\n",
    "        Speckle\n",
    "    </li>\n",
    "    <li>\n",
    "        Impulsif ou (Sel et Poivre)\n",
    "    </li>\n",
    "    <li>\n",
    "        Sel\n",
    "    </li>\n",
    "    <li>\n",
    "        Poivre\n",
    "    </li>\n",
    "    <li>\n",
    "        Poisson\n",
    "    </li>\n",
    "</ol>"
   ]
  },
  {
   "cell_type": "code",
   "execution_count": 4,
   "id": "0d041db5-d752-4b1a-a771-ee1beffe4bb4",
   "metadata": {},
   "outputs": [],
   "source": [
    "def bruité_image(mod):\n",
    "    path = open_file()\n",
    "    image = im.open(path)\n",
    "    image_array = np.asarray(image)\n",
    "\n",
    "    if mod==\"gaussian\":\n",
    "        random_array = ski.util.random_noise(image = image_array,mode='gaussian')\n",
    "    if mod==\"multiplicatif\":\n",
    "        random_array = ski.util.random_noise(image = image_array,mode='speckle')\n",
    "    if mod==\"impulsif\":\n",
    "        random_array = ski.util.random_noise(image = image_array,mode='s&p')\n",
    "    if mod==\"sel\":\n",
    "        random_array = ski.util.random_noise(image = image_array,mode='salt')\n",
    "    if mod==\"poivre\":\n",
    "        random_array = ski.util.random_noise(image = image_array,mode='pepper')\n",
    "    if mod==\"poisson\":\n",
    "        random_array = ski.util.random_noise(image = image_array,mode='poisson')\n",
    "    array_output = np.clip(random_array*255,0,255)\n",
    "    noisy_image_data = array_output.astype(\"uint8\")# Normaliser dans la plage [0, 255]\n",
    "    \n",
    "    noisy_image = im.fromarray(noisy_image_data)\n",
    "    noisy_image.save('noisy_image.png')\n",
    "    return (image,noisy_image)"
   ]
  },
  {
   "cell_type": "code",
   "execution_count": null,
   "id": "968adba4-92ae-45e8-8f34-71b8d1a526f0",
   "metadata": {},
   "outputs": [],
   "source": [
    "x=bruité_image('poivre')"
   ]
  },
  {
   "cell_type": "markdown",
   "id": "0c1e3456-e971-4606-8dae-471e49b57de7",
   "metadata": {},
   "source": [
    "<h3 style=\"text-align:center;\">Question 2</h3>  "
   ]
  },
  {
   "cell_type": "code",
   "execution_count": null,
   "id": "5e5e7f1e-175f-4352-aaa7-2d7be09ced88",
   "metadata": {},
   "outputs": [],
   "source": [
    "pairtopairimage(x[0],x[1])"
   ]
  },
  {
   "cell_type": "code",
   "execution_count": 2,
   "id": "974a05b5-81a6-4adc-822f-9df49b1f422f",
   "metadata": {},
   "outputs": [],
   "source": [
    "def filtre_mediane(dimensions):\n",
    "    img = im.open(open_file())\n",
    "    array = np.asarray(img)\n",
    "    footprint = square(dimensions)\n",
    "    if img.mode==\"RGB\":\n",
    "        r = array[:,:,0]\n",
    "        g = array[:,:,1]\n",
    "        b = array[:,:,2]\n",
    "        r_array = rank.median(r,footprint=footprint)\n",
    "        g_array = rank.median(g,footprint=footprint)\n",
    "        b_array = rank.median(b,footprint=footprint)\n",
    "        normal_result = np.stack((r_array,g_array,b_array ), axis=2)\n",
    "    else:\n",
    "        normal_result = rank.median(array, footprint=footprint)\n",
    "\n",
    "    image = im.fromarray(normal_result.astype(\"uint8\"))\n",
    "    image.save('filtre_mediane.png')\n",
    "    return img,image"
   ]
  },
  {
   "cell_type": "code",
   "execution_count": 2,
   "id": "00ed9ba2-96b9-409c-9d20-ecd488c10794",
   "metadata": {},
   "outputs": [],
   "source": [
    "def filtre_moyenneur(dimensions):\n",
    "    img = im.open(open_file())\n",
    "    array = np.asarray(img)\n",
    "    footprint = square(dimensions)\n",
    "    if img.mode==\"RGB\":\n",
    "        r = array[:,:,0]\n",
    "        g = array[:,:,1]\n",
    "        b = array[:,:,2]\n",
    "        r_array = rank.mean(r,footprint=footprint)\n",
    "        g_array = rank.mean(g,footprint=footprint)\n",
    "        b_array = rank.mean(b,footprint=footprint)\n",
    "        normal_result = np.stack((r_array,g_array,b_array ), axis=2)\n",
    "    else:\n",
    "        normal_result = rank.mean(array, footprint=footprint)\n",
    "\n",
    "    image = im.fromarray(normal_result.astype(\"uint8\"))\n",
    "    image.save('filtre_moyenneur.png')\n",
    "    return img,image"
   ]
  },
  {
   "cell_type": "code",
   "execution_count": null,
   "id": "00f130f7-3eb9-4871-89b2-375cbfd29ffe",
   "metadata": {},
   "outputs": [],
   "source": [
    "x = filtre_mediane(3)"
   ]
  },
  {
   "cell_type": "code",
   "execution_count": null,
   "id": "3de62805-acbb-4292-9b21-e27b29f8ab31",
   "metadata": {},
   "outputs": [],
   "source": [
    "X = filtre_moyenneur(5)"
   ]
  },
  {
   "cell_type": "code",
   "execution_count": null,
   "id": "20ec5692-91ff-451b-a8ca-0fd1e6ee44c5",
   "metadata": {},
   "outputs": [],
   "source": [
    "x[0]"
   ]
  },
  {
   "cell_type": "code",
   "execution_count": null,
   "id": "4acb66fa-f319-4bf8-b886-a6a98cff9e74",
   "metadata": {},
   "outputs": [],
   "source": [
    "x[1]"
   ]
  },
  {
   "cell_type": "code",
   "execution_count": null,
   "id": "c455675b-67c3-4398-8479-aa07ea12b43e",
   "metadata": {},
   "outputs": [],
   "source": [
    "X[0]"
   ]
  },
  {
   "cell_type": "code",
   "execution_count": null,
   "id": "08cc6a45-0c71-4f55-90ae-2b68ce091532",
   "metadata": {},
   "outputs": [],
   "source": [
    "X[1]"
   ]
  },
  {
   "cell_type": "code",
   "execution_count": 3,
   "id": "860ebaad-fd24-4b61-8744-df54e9ddf7a9",
   "metadata": {},
   "outputs": [],
   "source": [
    "def filtre_gaussian(sigma):\n",
    "    img = im.open(open_file())\n",
    "    array = np.asarray(img)\n",
    "    if img.mode==\"RGB\":\n",
    "        r = array[:,:,0]\n",
    "        g = array[:,:,1]\n",
    "        b = array[:,:,2]\n",
    "        r_array = r * gaussian(r,sigma=sigma)\n",
    "        g_array = g * gaussian(g,sigma=sigma)\n",
    "        b_array = b * gaussian(b,sigma=sigma)\n",
    "        r_array = np.clip(r_array ,0,255)\n",
    "        g_array = np.clip(g_array ,0,255)\n",
    "        b_array = np.clip(b_array ,0,255)\n",
    "\n",
    "        normal_result = np.stack((r_array,g_array,b_array ), axis=2)\n",
    "    else:\n",
    "        gaussien = gaussian(array, sigma = sigma)\n",
    "        normal_result = array * gaussien\n",
    "    image = im.fromarray(normal_result.astype(\"uint8\"))\n",
    "    image.save('filtre_gaussian.png')\n",
    "    return image"
   ]
  },
  {
   "cell_type": "code",
   "execution_count": null,
   "id": "e70587c6-9a45-4bba-8f4a-e568db594989",
   "metadata": {},
   "outputs": [],
   "source": [
    "filtre_gaussian(0.5)"
   ]
  },
  {
   "cell_type": "code",
   "execution_count": null,
   "id": "1d049db4-e1cf-4732-a23b-6fbcdbec8e0b",
   "metadata": {},
   "outputs": [],
   "source": [
    "import math\n",
    "def PeakSignalToNoiseRatio(image_original,image_traité):\n",
    "    width,height = image_original.size    \n",
    "    image_array = np.asarray(image_original)\n",
    "    image_traité_array = np.asarray(image_traité)\n",
    "    calcul =image_array - image_traité_array\n",
    "    difference = np.power( calcul,2)\n",
    "    x = difference.sum()\n",
    "    MSE = x /(width*height)\n",
    "    valeur_maximal = np.max(image_array)\n",
    "    I2 =  math.pow(valeur_maximal,2)\n",
    "    print(valeur_maximal)\n",
    "    print(I2)\n",
    "    print(MSE)\n",
    "\n",
    "    PSNR = 10 * math.log(I2/MSE,10)\n",
    "    return float(PSNR)                                         "
   ]
  },
  {
   "cell_type": "code",
   "execution_count": null,
   "id": "c6f8cc74-5b2b-4d0f-b64b-758e39e1ab60",
   "metadata": {},
   "outputs": [],
   "source": [
    "PeakSignalToNoiseRatio(x[0],x[1])"
   ]
  },
  {
   "cell_type": "code",
   "execution_count": null,
   "id": "9ccd3e06-fa5f-4eb9-9ecd-0845c2ee189c",
   "metadata": {},
   "outputs": [],
   "source": [
    "PeakSignalToNoiseRatio(X[0],X[1])"
   ]
  },
  {
   "cell_type": "markdown",
   "id": "24e00c19-2d2d-43cd-965a-d12bf2170ad7",
   "metadata": {},
   "source": [
    "<h1 style=\"text-align:center;color:#EB9A10;\"> Interface Graphique Avec Pyside6</h1>"
   ]
  },
  {
   "cell_type": "markdown",
   "id": "67269435-f050-4df4-8ea3-6580035775ac",
   "metadata": {},
   "source": [
    "Dans notre interface graphique on a fait une class pour grouper tout notre fonctions et attributs qu'on va utuliser dans notre interface graphique puis\n",
    "<code>class ImageProcessorApp(QMainWindow)</code> Représente une sub classe de notre class QMainWindow pris de PySide6.QtWidgets on definit notre fonction <code>__init__(self)</code> on lui attribuant la fonction init_ui(self) .\n",
    "dans cette fonction <code>init_ui(self)</code> on définit tout les fonctions qu'on va fait appel les buttons , les images, les labels ,les inputs, c'est à dir qu'on ajout dans notre fonction tout les variables on utulisant <code>self.contrast_enhancement_button.clicked.connect(self.apply_contrast_enhancement)</code>\n",
    "on regroupe dans notre classe tout les fonctions comme\n",
    "<ol>\n",
    "    <li> <code>    def get_image_path(self)</code> qui nous donne le chemin de l'image</li>\n",
    "    <li> <code>    def apply_noise(self)</code> qui fait le bruitage de l'image en spécifiant quelle valeur en utulisant  QComboBox() de Pyside 6</li>\n",
    "    <li> <code>    def apply_filter(self, filter_type) </code> applique le type de filtrage median et moyenneur en utulisant :QLineEdit() dans le quel on précise footprint ou notre matrice utulisé pour parcourir notre image </li>\n",
    "    <li> <code>    def apply_gaussian_filter(self)</code>Applique la filtre gaussian aprés on précis dans  QLineEdit() la valeur de sigma </li>\n",
    "    <li> <code>    def apply_dynamic_range(self)</code> Applique la dynamique de l'image </li>\n",
    "    <li> <code>    def apply_contrast_enhancement(self)</code>applique la contraste d'une image</li>\n",
    "    <li> <code>    def display_processed_image(self, image_path)</code>display l'image into our gui interface</li>\n",
    "</ol>"
   ]
  },
  {
   "cell_type": "code",
   "execution_count": null,
   "id": "32fb0f95-caec-4abf-9e5f-a055fb4ebe0f",
   "metadata": {},
   "outputs": [],
   "source": []
  }
 ],
 "metadata": {
  "kernelspec": {
   "display_name": "Python 3 (ipykernel)",
   "language": "python",
   "name": "python3"
  },
  "language_info": {
   "codemirror_mode": {
    "name": "ipython",
    "version": 3
   },
   "file_extension": ".py",
   "mimetype": "text/x-python",
   "name": "python",
   "nbconvert_exporter": "python",
   "pygments_lexer": "ipython3",
   "version": "3.10.11"
  }
 },
 "nbformat": 4,
 "nbformat_minor": 5
}
